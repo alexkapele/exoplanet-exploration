{
 "cells": [
  {
   "cell_type": "code",
   "execution_count": 1,
   "metadata": {},
   "outputs": [],
   "source": [
    "import pandas as pd\n",
    "import numpy as np\n",
    "import datetime\n",
    "import os.path\n",
    "\n",
    "%matplotlib inline"
   ]
  },
  {
   "cell_type": "code",
   "execution_count": 2,
   "metadata": {},
   "outputs": [],
   "source": [
    "airport_name = 'ATH'"
   ]
  },
  {
   "cell_type": "code",
   "execution_count": 3,
   "metadata": {},
   "outputs": [],
   "source": [
    "sch_data_path = 'Data/Raw OAG/' + airport_name + '_Schedules_data.csv' \n",
    "data = pd.read_csv(sch_data_path)"
   ]
  },
  {
   "cell_type": "code",
   "execution_count": 4,
   "metadata": {},
   "outputs": [],
   "source": [
    "#Check data correspond to correct airport\n",
    "if data['Dep Airport Code'].nunique() != 1 or data['Dep Airport Code'][0]!=airport_name:\n",
    "        raise ValueError('Check OAG data (is the Dep Airport correct?).')"
   ]
  },
  {
   "cell_type": "code",
   "execution_count": 5,
   "metadata": {},
   "outputs": [],
   "source": [
    "#function that converts time from string to datetime format\n",
    "def conv_date(date_time_str):\n",
    "    return datetime.datetime.strptime(date_time_str, '%Y-%m-%d')"
   ]
  },
  {
   "cell_type": "code",
   "execution_count": 6,
   "metadata": {},
   "outputs": [],
   "source": [
    "#Convert 'Time series' from string to datetime and create new 'Year' and 'Month' columns\n",
    "data['Time series'] = data['Time series'].apply(lambda x: datetime.date(int(x[:4]), int(x[5:7]), int(x[8:10])))\n",
    "data['Year'] = data['Time series'].apply(lambda x: x.year)\n",
    "data['Month'] = data['Time series'].apply(lambda x: x.month)\n",
    "data['Season'] = data['Month'].apply(lambda x: 'Summer' if (x>=4) & (x<11) else 'Winter')"
   ]
  },
  {
   "cell_type": "code",
   "execution_count": 7,
   "metadata": {},
   "outputs": [
    {
     "data": {
      "text/plain": [
       "(191075, 25)"
      ]
     },
     "execution_count": 7,
     "metadata": {},
     "output_type": "execute_result"
    }
   ],
   "source": [
    "data.shape"
   ]
  },
  {
   "cell_type": "code",
   "execution_count": 8,
   "metadata": {},
   "outputs": [],
   "source": [
    "#Add consolidated regions column\n",
    "regions = pd.read_csv('Data/regions_lookup.csv')\n",
    "data = data.merge(regions,left_on=['Arr Region Name'],right_on=['Region (OAG)']).drop(['Region (OAG)'],axis=1)\n",
    "data.loc[data['International/Domestic']=='Domestic','Region'] = 'Domestic'"
   ]
  },
  {
   "cell_type": "code",
   "execution_count": 9,
   "metadata": {},
   "outputs": [],
   "source": [
    "#Sort by date\n",
    "data = data.sort_values('Time series')"
   ]
  },
  {
   "cell_type": "code",
   "execution_count": 10,
   "metadata": {},
   "outputs": [],
   "source": [
    "data_grouped = pd.DataFrame(data.groupby(['Carrier Code', 'Arr Airport Code', 'Time series'])['Frequency','Seats (Total)'].sum())\n",
    "data = data.merge(data_grouped.drop('Seats (Total)',axis=1),left_on=['Carrier Code', 'Arr Airport Code', 'Time series'], right_on=['Carrier Code', 'Arr Airport Code', 'Time series']).rename({'Frequency_x':'Frequency','Frequency_y':'total_freq'},axis='columns')"
   ]
  },
  {
   "cell_type": "code",
   "execution_count": 11,
   "metadata": {},
   "outputs": [
    {
     "data": {
      "text/plain": [
       "(191075, 27)"
      ]
     },
     "execution_count": 11,
     "metadata": {},
     "output_type": "execute_result"
    }
   ],
   "source": [
    "data.shape"
   ]
  },
  {
   "cell_type": "code",
   "execution_count": 12,
   "metadata": {},
   "outputs": [
    {
     "data": {
      "text/plain": [
       "Index(['Carrier Code', 'Carrier Name', 'Dep Airport Code', 'Dep Airport Name',\n",
       "       'Dep City Name', 'Dep IATA Country Name', 'Dep Region Name',\n",
       "       'Arr Airport Code', 'Arr Airport Name', 'Arr IATA Country Name',\n",
       "       'Arr Region Name', 'International/Domestic', 'Local Days Of Op',\n",
       "       'Flying Time', 'Specific Aircraft Code', 'Specific Aircraft Name',\n",
       "       'GCD (km)', 'Mainline/Low Cost', 'Service Type', 'Frequency',\n",
       "       'Seats (Total)', 'Time series', 'Year', 'Month', 'Season', 'Region',\n",
       "       'total_freq'],\n",
       "      dtype='object')"
      ]
     },
     "execution_count": 12,
     "metadata": {},
     "output_type": "execute_result"
    }
   ],
   "source": [
    "data.columns"
   ]
  },
  {
   "cell_type": "code",
   "execution_count": 13,
   "metadata": {},
   "outputs": [],
   "source": [
    "limit_is_route = 30/7/2 #number of monthly frequencies for entry to be considered route"
   ]
  },
  {
   "cell_type": "code",
   "execution_count": 14,
   "metadata": {},
   "outputs": [],
   "source": [
    "def freq_check_month(x, limit):\n",
    "    return 1 if x >= limit else 0\n",
    "\n",
    "data['is_route'] = data['total_freq'].apply(lambda x: freq_check_month(x, limit_is_route))"
   ]
  },
  {
   "cell_type": "markdown",
   "metadata": {},
   "source": [
    "### Pax data"
   ]
  },
  {
   "cell_type": "code",
   "execution_count": 15,
   "metadata": {},
   "outputs": [],
   "source": [
    "def import_pax_data(airport_name):\n",
    "    ''' function used to import OAG Pax data, which may be split into multiple files due to size limits'''\n",
    "    if os.path.isfile('Data/Raw OAG/' + airport_name + '_Pax_data.csv'):\n",
    "        data_ = pd.read_csv('Data/Raw OAG/' + airport_name + '_Pax_data.csv')\n",
    "    elif os.path.isfile ('Data/Raw OAG/' + airport_name + '_Pax_data_1.csv'):\n",
    "        data_ = pd.read_csv('Data/Raw OAG/' + airport_name + '_Pax_data_1.csv')\n",
    "    \n",
    "    for i in range(2,6):\n",
    "        pax_path = 'Data/Raw OAG/' + airport_name + '_Pax_data_' + str(i) + '.csv'\n",
    "        if os.path.isfile(pax_path):\n",
    "            data_ = data_.append(pd.read_csv(pax_path))\n",
    "            \n",
    "    if data_['Dep Airport Code'].nunique() != 1 or data_['Dep Airport Code'].values[0]!=airport_name:\n",
    "        raise ValueError('Check OAG data (is the Dep Airport correct?).')\n",
    "    \n",
    "    return data_"
   ]
  },
  {
   "cell_type": "code",
   "execution_count": 16,
   "metadata": {},
   "outputs": [],
   "source": [
    "pax_data = import_pax_data(airport_name)"
   ]
  },
  {
   "cell_type": "code",
   "execution_count": 17,
   "metadata": {},
   "outputs": [],
   "source": [
    "#Convert 'Time series' from string to datetime and create new 'Year' and 'Month' columns\n",
    "pax_data['Time series'] = pax_data['Time Series'].apply(lambda x: datetime.date(int(str(x)[:4]), int(str(x)[4:6]), 1))\n",
    "pax_data['Year'] = pax_data['Time series'].apply(lambda x: x.year)\n",
    "pax_data['Month'] = pax_data['Time series'].apply(lambda x: x.month)\n",
    "pax_data['Season'] = pax_data['Month'].apply(lambda x: 'Summer' if (x>=4) & (x<11) else 'Winter')\n",
    "pax_data = pax_data.drop('Time Series', axis=1)"
   ]
  },
  {
   "cell_type": "code",
   "execution_count": 18,
   "metadata": {},
   "outputs": [],
   "source": [
    "#Determine if pax is transfer or OD and store next destination\n",
    "pax_data['Direct/Indirect'] = pax_data['Gateway1 Airport Code'].apply(lambda x: 'Direct' if pd.isnull(x) or x==\"\" else 'Indirect')\n",
    "pax_data['NextDest'] = pax_data[['Gateway1 Airport Code','Arr Airport Code']].apply(lambda x: x['Arr Airport Code'] if pd.isnull(x['Gateway1 Airport Code']) else x['Gateway1 Airport Code'], axis=1)"
   ]
  },
  {
   "cell_type": "code",
   "execution_count": 19,
   "metadata": {},
   "outputs": [],
   "source": [
    "od_pax_data_Season_routes = pd.DataFrame(pax_data.groupby(['Arr Airport Code', 'Year', 'Season','Direct/Indirect'],as_index=False)['Total Est. Pax'].sum()).sort_values(['Arr Airport Code','Direct/Indirect','Year','Season'])\n",
    "segment_pax_data_Season = pd.DataFrame(pax_data.groupby(['Pub. Al. Code (Dominant)', 'NextDest', 'Year', 'Season','Direct/Indirect'],as_index=False)['Total Est. Pax'].sum()).sort_values(['Pub. Al. Code (Dominant)','NextDest','Year','Season','Direct/Indirect'])"
   ]
  },
  {
   "cell_type": "markdown",
   "metadata": {},
   "source": [
    "***Monthly Data - by Airline***"
   ]
  },
  {
   "cell_type": "code",
   "execution_count": null,
   "metadata": {},
   "outputs": [],
   "source": [
    "data_monthly = pd.DataFrame(data[data['is_route']==1].groupby(['Carrier Code','Arr Airport Code','Arr IATA Country Name','Region','Time series'],as_index=False)['Frequency'].sum())"
   ]
  },
  {
   "cell_type": "code",
   "execution_count": null,
   "metadata": {},
   "outputs": [],
   "source": [
    "#add prev year frequencies\n",
    "data_monthly['prev_year_date'] = data_monthly['Time series'].apply(lambda x: x - pd.DateOffset(years=1))\n",
    "data_monthly_full = data_monthly.merge(data_monthly.iloc[:,0:-1], how = 'left', left_on = ['Carrier Code', 'Arr Airport Code', 'prev_year_date'], right_on = ['Carrier Code', 'Arr Airport Code', 'Time series'])\n",
    "data_monthly_full = data_monthly_full.sort_values(['Carrier Code', 'Arr Airport Code', 'Time series_x']).rename(columns={'Time series_x':'Time_series','Frequency_x':'Frequency','Frequency_y':'Frequency_prev_year','Region_x':'Region'}).drop(['Time series_y','Region_y'],axis=1)"
   ]
  },
  {
   "cell_type": "code",
   "execution_count": null,
   "metadata": {},
   "outputs": [],
   "source": [
    "#add prev month frequencies\n",
    "data_monthly_full['prev_month_date'] = data_monthly_full['Time_series'].apply(lambda x: x - pd.DateOffset(months=1))\n",
    "data_monthly_full = data_monthly_full.merge(data_monthly.iloc[:,0:-1], how = 'left', left_on = ['Carrier Code', 'Arr Airport Code', 'prev_month_date'], right_on = ['Carrier Code', 'Arr Airport Code', 'Time series'])\n",
    "data_monthly_full = data_monthly_full.drop(['Time series'],axis=1).rename(columns={'Frequency_x':'Frequency','Frequency_y':'Frequency_prev_month','Arr IATA Country Name_x':'Arr IATA Country Name','Region_x':'Region'}).drop(['Arr IATA Country Name_y','Region_y'],axis=1)"
   ]
  },
  {
   "cell_type": "code",
   "execution_count": null,
   "metadata": {},
   "outputs": [],
   "source": [
    "data_monthly_full.head()"
   ]
  },
  {
   "cell_type": "markdown",
   "metadata": {},
   "source": [
    "***Routes (not by airline)***"
   ]
  },
  {
   "cell_type": "code",
   "execution_count": 20,
   "metadata": {},
   "outputs": [],
   "source": [
    "routes_season = pd.DataFrame(data.groupby(['Arr Airport Code','Year', 'Season'],as_index=False)['Frequency','Seats (Total)'].sum())"
   ]
  },
  {
   "cell_type": "code",
   "execution_count": 21,
   "metadata": {},
   "outputs": [],
   "source": [
    "#add prev year frequencies\n",
    "routes_season['prev_year'] = routes_season['Year'].apply(lambda x: x-1) \n",
    "routes_season_full = routes_season.merge(routes_season.iloc[:,0:-1], how = 'left', left_on = ['Arr Airport Code', 'prev_year', 'Season'], right_on = ['Arr Airport Code',  'Year', 'Season'],validate = 'm:1')\n",
    "routes_season_full = routes_season_full.sort_values(['Arr Airport Code', 'Year_x']).rename(columns={'Year_x':'Year','Frequency_x':'Frequency','Frequency_y':'Frequency_prev_year','Seats (Total)_x':'Seats (Total)','Seats (Total)_y':'Seats_prev_year'}).drop(['Year_y'],axis=1)\n"
   ]
  },
  {
   "cell_type": "code",
   "execution_count": 22,
   "metadata": {},
   "outputs": [],
   "source": [
    "#add region to routes_season_full\n",
    "routes_season_full = routes_season_full.merge(data[['Arr Airport Code','Region']].drop_duplicates(subset=['Arr Airport Code']),how='left',on=['Arr Airport Code'],validate = 'm:1')"
   ]
  },
  {
   "cell_type": "code",
   "execution_count": 23,
   "metadata": {},
   "outputs": [],
   "source": [
    "def freq_check_season(x, season, limit_month):\n",
    "    if season == 'Summer':\n",
    "        limit = 7*limit_month\n",
    "    else:\n",
    "        limit = 5*limit_month\n",
    "    if x >= limit or np.isnan(x):\n",
    "        out = 1\n",
    "    else:\n",
    "        out = 0\n",
    "    return out"
   ]
  },
  {
   "cell_type": "code",
   "execution_count": 24,
   "metadata": {},
   "outputs": [],
   "source": [
    "routes_season_full['is_route'] = routes_season_full[['Frequency','Season']].apply(lambda x: freq_check_season(*x,limit_is_route),axis=1)"
   ]
  },
  {
   "cell_type": "code",
   "execution_count": 25,
   "metadata": {},
   "outputs": [],
   "source": [
    "def is_new(x,season,limit_month):\n",
    "    if season == 'Summer':\n",
    "        limit = 7*limit_month\n",
    "    else:\n",
    "        limit = 5*limit_month \n",
    "    return 1 if (np.isnan(x)) or (x < limit) else 0\n",
    "\n",
    "def freq_change(x,y):\n",
    "    if y-x > 0 or np.isnan(x):\n",
    "        freq_diff = -1\n",
    "    elif y-x < 0 or np.isnan(y):\n",
    "        freq_diff = 1\n",
    "    else:\n",
    "        freq_diff = 0\n",
    "    return freq_diff"
   ]
  },
  {
   "cell_type": "code",
   "execution_count": 26,
   "metadata": {},
   "outputs": [],
   "source": [
    "routes_season_full['is_new'] = routes_season_full[['Frequency_prev_year','Season']].apply(lambda x: is_new(*x,limit_is_route), axis=1)\n",
    "routes_season_full['yoychange'] = routes_season_full[['Frequency','Frequency_prev_year']].apply(lambda x: freq_change(*x),axis=1)"
   ]
  },
  {
   "cell_type": "markdown",
   "metadata": {},
   "source": [
    "***Season Data - by Airline***"
   ]
  },
  {
   "cell_type": "code",
   "execution_count": 48,
   "metadata": {},
   "outputs": [],
   "source": [
    "data_season = pd.DataFrame(data.groupby(['Carrier Code', 'Arr Airport Code', 'Year', 'Season'],as_index=False)['Frequency','Seats (Total)'].sum())"
   ]
  },
  {
   "cell_type": "markdown",
   "metadata": {},
   "source": [
    "**Add negative samples (i.e. routes that could have started but didn't)**"
   ]
  },
  {
   "cell_type": "code",
   "execution_count": 49,
   "metadata": {},
   "outputs": [],
   "source": [
    "#Get top ultimate destinations by region\n",
    "#Weighted sum of Direct/Indirect (if ind_weight=1 (default) then total sum is obtained, otherwise weighted average)\n",
    "ind_weight = 0.7\n",
    "\n",
    "top_dest = pd.DataFrame(od_pax_data_Season_routes[od_pax_data_Season_routes['Direct/Indirect']=='Direct'].groupby(['Arr Airport Code','Year'],as_index=False)['Total Est. Pax'].sum()).rename(columns={'Total Est. Pax':'Direct Pax'})\n",
    "top_ind = pd.DataFrame(od_pax_data_Season_routes[od_pax_data_Season_routes['Direct/Indirect']=='Indirect'].groupby(['Arr Airport Code','Year'],as_index=False)['Total Est. Pax'].sum()).rename(columns={'Total Est. Pax':'Indirect Pax'})\n",
    "top_dest = top_dest.merge(top_ind,how='outer',on=['Arr Airport Code','Year'])\n",
    "top_dest['Direct Pax'] = top_dest['Direct Pax'].fillna(0)\n",
    "top_dest['Indirect Pax'] = top_dest['Indirect Pax'].fillna(0)\n",
    "top_dest['Total Est. Pax'] = top_dest[['Direct Pax','Indirect Pax']].apply(lambda x: (1 if ind_weight==1 else 1-ind_weight)*x['Direct Pax']+ind_weight*x['Indirect Pax'],axis=1)\n",
    "\n",
    "top_dest = top_dest.merge(pax_data[['Arr Airport Code','Arr Region Name','International/Domestic']].drop_duplicates('Arr Airport Code'),how='left',on=['Arr Airport Code'],validate = 'm:1')\n",
    "top_dest = top_dest.merge(regions,how='left',left_on=['Arr Region Name'],right_on=['Region (OAG)']).drop(['Arr Region Name','Region (OAG)'],axis=1)\n",
    "top_dest.loc[top_dest['International/Domestic']=='Domestic','Region'] = 'Domestic'\n",
    "top_dest = top_dest.sort_values(['Year','Region','Total Est. Pax'],ascending=False).reset_index(drop=True)"
   ]
  },
  {
   "cell_type": "code",
   "execution_count": 50,
   "metadata": {},
   "outputs": [],
   "source": [
    "#Get top regions by airline (all time)\n",
    "airline_region = data.groupby(['Carrier Code','Region'],as_index=False)['Seats (Total)'].sum().sort_values(['Carrier Code','Seats (Total)'],ascending=False).reset_index(drop=True)\n",
    "\n",
    "airline_region['order'] = 1\n",
    "for i in range(1,len(airline_region)):\n",
    "    if airline_region.loc[i,'Carrier Code']==airline_region.loc[i-1,'Carrier Code']:\n",
    "        airline_region.loc[i,'order'] = airline_region.loc[i-1,'order']+1 \n",
    "        \n",
    "airline_region_top = pd.DataFrame(airline_region['Carrier Code'].unique(),columns=['Carrier Code'])\n",
    "airline_region_top = airline_region_top.merge(airline_region[airline_region['order']==1][['Carrier Code','Region']],how='left',on=['Carrier Code']).rename(columns={'Region':'Region_1'})\n",
    "airline_region_top = airline_region_top.merge(airline_region[airline_region['order']==2][['Carrier Code','Region']],how='left',on=['Carrier Code']).rename(columns={'Region':'Region_2'})"
   ]
  },
  {
   "cell_type": "code",
   "execution_count": 51,
   "metadata": {},
   "outputs": [],
   "source": [
    "airline_season = data_season[['Carrier Code','Year','Season']].drop_duplicates().reset_index(drop=True)"
   ]
  },
  {
   "cell_type": "code",
   "execution_count": 52,
   "metadata": {},
   "outputs": [],
   "source": [
    "for i in range(len(airline_season)):\n",
    "    for j in ['Region_1','Region_2']:\n",
    "\n",
    "        airline = airline_season['Carrier Code'][i]\n",
    "        year = airline_season['Year'][i]\n",
    "        season = airline_season['Season'][i]\n",
    "        region = airline_region_top[airline_region_top['Carrier Code']==airline][j].values[0]\n",
    "        \n",
    "        if not pd.isna(region):\n",
    "            #get current and last year's airline routes\n",
    "            airline_routes = data_season[(data_season['Carrier Code']==airline)&(~pd.isnull(data_season['Frequency']))&(data_season['Year'].isin([year,year-1]))]['Arr Airport Code'].values\n",
    "        \n",
    "            #randomely choose negative routes and append to data_season\n",
    "            dest_pool = top_dest[(top_dest['Region']==region)&(top_dest['Year']==year)&(~top_dest['Arr Airport Code'].isin(airline_routes))]\n",
    "            if len(dest_pool)==0:\n",
    "                dest_pool = top_dest[(top_dest['Region']==region)&(top_dest['Year']==top_dest['Year'].min())&(~top_dest['Arr Airport Code'].isin(airline_routes))]\n",
    "                \n",
    "            dest_pool = dest_pool[dest_pool['Total Est. Pax']>=dest_pool['Total Est. Pax'].quantile(0.6)]['Arr Airport Code']\n",
    "            if len(dest_pool)>=2:\n",
    "                neg_routes = pd.DataFrame(np.random.choice(dest_pool,2,replace=False),columns=['Arr Airport Code'])\n",
    "                neg_routes['Carrier Code'] = airline\n",
    "                neg_routes['Year'] = year\n",
    "                neg_routes['Season'] = season\n",
    "        \n",
    "                data_season = data_season.append(neg_routes,sort=True,ignore_index=True)"
   ]
  },
  {
   "cell_type": "code",
   "execution_count": 53,
   "metadata": {},
   "outputs": [
    {
     "data": {
      "text/plain": [
       "0.47338990855864743"
      ]
     },
     "execution_count": 53,
     "metadata": {},
     "output_type": "execute_result"
    }
   ],
   "source": [
    "len(data_season[pd.isnull(data_season['Frequency'])])/len(data_season)"
   ]
  },
  {
   "cell_type": "markdown",
   "metadata": {},
   "source": [
    "*Comparison with previous year (airline-route & route level)*"
   ]
  },
  {
   "cell_type": "code",
   "execution_count": 54,
   "metadata": {},
   "outputs": [],
   "source": [
    "#add prev year (same season) frequencies\n",
    "data_season['prev_year'] = data_season['Year'].apply(lambda x: x-1)\n",
    "data_season_full = data_season.merge(data_season[['Carrier Code', 'Arr Airport Code', 'Year', 'Season', 'Frequency']], how = 'left', left_on = ['Carrier Code', 'Arr Airport Code', 'prev_year', 'Season'], right_on = ['Carrier Code', 'Arr Airport Code',  'Year', 'Season'],validate = 'm:1')\n",
    "data_season_full = data_season_full.sort_values(['Carrier Code', 'Arr Airport Code', 'Year_x']).rename(columns={'Year_x':'Year','Frequency_x':'Frequency','Frequency_y':'Frequency_prev_year'}).drop(['Year_y'],axis=1)"
   ]
  },
  {
   "cell_type": "code",
   "execution_count": 55,
   "metadata": {},
   "outputs": [],
   "source": [
    "#check if route/airline pair is new\n",
    "data_season_full['is_new_route_airline'] = data_season_full[['Frequency_prev_year','Season']].apply(lambda x: is_new(*x,limit_is_route),axis=1)"
   ]
  },
  {
   "cell_type": "code",
   "execution_count": 56,
   "metadata": {
    "scrolled": true
   },
   "outputs": [],
   "source": [
    "#combine with route level data to see if destination is new\n",
    "data_season_full = data_season_full.merge(routes_season_full[['Arr Airport Code','Year','Season','Frequency_prev_year','is_new']], how = 'left', on = ['Arr Airport Code','Year','Season'],validate = 'm:1').rename(columns={'Frequency_prev_year_x':'Frequency_prev_year', 'Frequency_prev_year_y':'Frequency_prev_year_route','is_new':'is_new_route'})\n",
    "data_season_full['is_new_route'] = data_season_full['is_new_route'].fillna(1)"
   ]
  },
  {
   "cell_type": "code",
   "execution_count": 57,
   "metadata": {},
   "outputs": [
    {
     "data": {
      "text/html": [
       "<div>\n",
       "<style scoped>\n",
       "    .dataframe tbody tr th:only-of-type {\n",
       "        vertical-align: middle;\n",
       "    }\n",
       "\n",
       "    .dataframe tbody tr th {\n",
       "        vertical-align: top;\n",
       "    }\n",
       "\n",
       "    .dataframe thead th {\n",
       "        text-align: right;\n",
       "    }\n",
       "</style>\n",
       "<table border=\"1\" class=\"dataframe\">\n",
       "  <thead>\n",
       "    <tr style=\"text-align: right;\">\n",
       "      <th></th>\n",
       "      <th>Arr Airport Code</th>\n",
       "      <th>Carrier Code</th>\n",
       "      <th>Frequency</th>\n",
       "      <th>Season</th>\n",
       "      <th>Seats (Total)</th>\n",
       "      <th>Year</th>\n",
       "      <th>prev_year</th>\n",
       "      <th>Frequency_prev_year</th>\n",
       "      <th>is_new_route_airline</th>\n",
       "      <th>Frequency_prev_year_route</th>\n",
       "      <th>is_new_route</th>\n",
       "    </tr>\n",
       "  </thead>\n",
       "  <tbody>\n",
       "    <tr>\n",
       "      <th>0</th>\n",
       "      <td>AOK</td>\n",
       "      <td>0B</td>\n",
       "      <td>NaN</td>\n",
       "      <td>Winter</td>\n",
       "      <td>NaN</td>\n",
       "      <td>2017</td>\n",
       "      <td>2016</td>\n",
       "      <td>NaN</td>\n",
       "      <td>1</td>\n",
       "      <td>148.0</td>\n",
       "      <td>0.0</td>\n",
       "    </tr>\n",
       "    <tr>\n",
       "      <th>1</th>\n",
       "      <td>AOK</td>\n",
       "      <td>0B</td>\n",
       "      <td>6.0</td>\n",
       "      <td>Summer</td>\n",
       "      <td>276.0</td>\n",
       "      <td>2018</td>\n",
       "      <td>2017</td>\n",
       "      <td>NaN</td>\n",
       "      <td>1</td>\n",
       "      <td>423.0</td>\n",
       "      <td>0.0</td>\n",
       "    </tr>\n",
       "    <tr>\n",
       "      <th>2</th>\n",
       "      <td>AXD</td>\n",
       "      <td>0B</td>\n",
       "      <td>NaN</td>\n",
       "      <td>Summer</td>\n",
       "      <td>NaN</td>\n",
       "      <td>2015</td>\n",
       "      <td>2014</td>\n",
       "      <td>NaN</td>\n",
       "      <td>1</td>\n",
       "      <td>551.0</td>\n",
       "      <td>0.0</td>\n",
       "    </tr>\n",
       "    <tr>\n",
       "      <th>3</th>\n",
       "      <td>AXD</td>\n",
       "      <td>0B</td>\n",
       "      <td>NaN</td>\n",
       "      <td>Winter</td>\n",
       "      <td>NaN</td>\n",
       "      <td>2020</td>\n",
       "      <td>2019</td>\n",
       "      <td>NaN</td>\n",
       "      <td>1</td>\n",
       "      <td>603.0</td>\n",
       "      <td>0.0</td>\n",
       "    </tr>\n",
       "    <tr>\n",
       "      <th>4</th>\n",
       "      <td>AYT</td>\n",
       "      <td>0B</td>\n",
       "      <td>NaN</td>\n",
       "      <td>Summer</td>\n",
       "      <td>NaN</td>\n",
       "      <td>2019</td>\n",
       "      <td>2018</td>\n",
       "      <td>NaN</td>\n",
       "      <td>1</td>\n",
       "      <td>NaN</td>\n",
       "      <td>1.0</td>\n",
       "    </tr>\n",
       "  </tbody>\n",
       "</table>\n",
       "</div>"
      ],
      "text/plain": [
       "  Arr Airport Code Carrier Code  Frequency  Season  Seats (Total)  Year  \\\n",
       "0              AOK           0B        NaN  Winter            NaN  2017   \n",
       "1              AOK           0B        6.0  Summer          276.0  2018   \n",
       "2              AXD           0B        NaN  Summer            NaN  2015   \n",
       "3              AXD           0B        NaN  Winter            NaN  2020   \n",
       "4              AYT           0B        NaN  Summer            NaN  2019   \n",
       "\n",
       "   prev_year  Frequency_prev_year  is_new_route_airline  \\\n",
       "0       2016                  NaN                     1   \n",
       "1       2017                  NaN                     1   \n",
       "2       2014                  NaN                     1   \n",
       "3       2019                  NaN                     1   \n",
       "4       2018                  NaN                     1   \n",
       "\n",
       "   Frequency_prev_year_route  is_new_route  \n",
       "0                      148.0           0.0  \n",
       "1                      423.0           0.0  \n",
       "2                      551.0           0.0  \n",
       "3                      603.0           0.0  \n",
       "4                        NaN           1.0  "
      ]
     },
     "execution_count": 57,
     "metadata": {},
     "output_type": "execute_result"
    }
   ],
   "source": [
    "data_season_full.head()"
   ]
  },
  {
   "cell_type": "code",
   "execution_count": 58,
   "metadata": {},
   "outputs": [],
   "source": [
    "#remove rows with small number of frequencies (i.e. not real routes)\n",
    "data_season_full['is_route'] = data_season_full[['Frequency','Season']].apply(lambda x: freq_check_season(*x,limit_is_route),axis=1)\n",
    "data_season_full = data_season_full[data_season_full['is_route']==1].drop(columns=['is_route'])"
   ]
  },
  {
   "cell_type": "code",
   "execution_count": 59,
   "metadata": {},
   "outputs": [],
   "source": [
    "#determine if airline is new at airport (i.e. no flights last year same season)\n",
    "airline_freq = data_season.groupby(['Carrier Code','Year','Season'],as_index=False)['Frequency'].sum()\n",
    "data_season_full = data_season_full.merge(airline_freq,how='left',left_on=['Carrier Code','prev_year','Season'],right_on=['Carrier Code','Year','Season'],validate = 'm:1')\\\n",
    "    .rename(columns={'Year_x':'Year','Frequency_x':'Frequency','Frequency_y':'Frequency_prev_airline'}).drop(['Year_y'],axis=1)\n",
    "data_season_full['is_new_airline'] = data_season_full['Frequency_prev_airline'].apply(lambda x: 1 if np.isnan(x)==True else 0)\n",
    "data_season_full = data_season_full.drop(['Frequency_prev_airline'],axis=1)"
   ]
  },
  {
   "cell_type": "code",
   "execution_count": 60,
   "metadata": {},
   "outputs": [],
   "source": [
    "#clasisfy freq change vs. prev year for route-airline pair \n",
    "data_season_full['yoychange'] = data_season_full[['Frequency','Frequency_prev_year']].apply(lambda x: freq_change(*x),axis=1)\n",
    "data_season_full.loc[pd.isnull(data_season_full['Frequency']),'yoychange'] = 1"
   ]
  },
  {
   "cell_type": "code",
   "execution_count": 61,
   "metadata": {},
   "outputs": [],
   "source": [
    "#add number of airlines with flights to each destination in the previous year\n",
    "airlines_by_route = data_season_full[~pd.isnull(data_season_full['Frequency'])][['Carrier Code','Arr Airport Code','Year','Season']].groupby(['Arr Airport Code','Year','Season'],as_index=False).agg({'Carrier Code': pd.Series.nunique})\n",
    "data_season_full = data_season_full.merge(airlines_by_route, how = 'left', left_on = ['Arr Airport Code','prev_year','Season'], right_on = ['Arr Airport Code','Year','Season'],validate = 'm:1').rename(columns={'Carrier Code_x':'Carrier Code','Year_x':'Year','Carrier Code_y':'n_airlines_prev_year'}).drop(['Year_y'],axis=1)\n",
    "data_season_full['n_airlines_prev_year'] = data_season_full['n_airlines_prev_year'].fillna(0)"
   ]
  },
  {
   "cell_type": "markdown",
   "metadata": {},
   "source": [
    "*Previous year trends (vs year before)*"
   ]
  },
  {
   "cell_type": "code",
   "execution_count": 62,
   "metadata": {},
   "outputs": [],
   "source": [
    "#prev year vs year before freq. % change for airline-route\n",
    "data_season_full['pct_change'] = data_season_full[['is_new_route_airline','Frequency','Frequency_prev_year']].apply(lambda x: x['Frequency']/x['Frequency_prev_year']-1 if x['is_new_route_airline']==0 else 'New', axis=1)\n",
    "data_season_full = data_season_full.merge(data_season_full[['Carrier Code','Arr Airport Code','Season','Year','pct_change']],how='left',left_on = ['Carrier Code','Arr Airport Code','Season','prev_year'], right_on = ['Carrier Code','Arr Airport Code','Season','Year'],validate = 'm:1')\\\n",
    "    .rename(columns={'Year_x':'Year','pct_change_y':'pct_change_prev'}).drop(['Year_y','pct_change_x'],axis=1)"
   ]
  },
  {
   "cell_type": "code",
   "execution_count": 68,
   "metadata": {},
   "outputs": [],
   "source": [
    "data_season_full.loc[pd.isnull(data_season_full['Frequency']),'pct_change_prev'] = 0\n",
    "data_season_full['pct_change_prev'] = data_season_full['pct_change_prev'].fillna(0)\n",
    "data_season_full.loc[data_season_full['pct_change_prev']=='New','pct_change_prev'] = float('NaN')"
   ]
  },
  {
   "cell_type": "code",
   "execution_count": 70,
   "metadata": {},
   "outputs": [],
   "source": [
    "#prev year vs year before freq. % change for airline (all routes)\n",
    "airline_freq['prev_year'] = airline_freq['Year'].apply(lambda x: x-1)\n",
    "airline_freq = airline_freq.merge(airline_freq,how='left',left_on=['Carrier Code','prev_year','Season'],right_on=['Carrier Code','Year','Season'],validate = 'm:1')\\\n",
    "    .rename(columns={'Year_x':'Year','prev_year_x':'prev_year','Frequency_x':'Frequency','Frequency_y':'Frequency_prev'}).drop(['Year_y','prev_year_y'],axis=1)\n",
    "airline_freq['pct_change'] = airline_freq.apply(lambda x: x['Frequency']/x['Frequency_prev']-1 if x['Frequency_prev']>0 else 'New airline' , axis=1)\n",
    "\n",
    "data_season_full = data_season_full.merge(airline_freq[['Carrier Code','Season','Year','pct_change']],how='left',left_on = ['Carrier Code','Season','prev_year'], right_on = ['Carrier Code','Season','Year'],validate = 'm:1')\\\n",
    "    .rename(columns={'Year_x':'Year','pct_change':'pct_change_prev_airline'}).drop(['Year_y'],axis=1)\n",
    "\n",
    "data_season_full['pct_change_prev_airline'] = data_season_full['pct_change_prev_airline'].fillna(0)\n",
    "data_season_full.loc[data_season_full['pct_change_prev_airline']=='New airline','pct_change_prev_airline'] = float('NaN')"
   ]
  },
  {
   "cell_type": "code",
   "execution_count": 72,
   "metadata": {},
   "outputs": [],
   "source": [
    "#prev year vs year before freq. % change for route\n",
    "routes_season_full['pct_change'] = routes_season_full[['is_new','Frequency','Frequency_prev_year']].apply(lambda x: x['Frequency']/x['Frequency_prev_year']-1 if x['is_new']==0 else 'New', axis=1)\n",
    "data_season_full = data_season_full.merge(routes_season_full[['Arr Airport Code','Season','Year','pct_change']],how='left',left_on = ['Arr Airport Code','Season','prev_year'], right_on = ['Arr Airport Code','Season','Year'],validate = 'm:1')\\\n",
    "    .rename(columns={'Year_x':'Year','pct_change':'pct_change_prev_route'}).drop(['Year_y'],axis=1)\n",
    "\n",
    "data_season_full['pct_change_prev_route'] = data_season_full['pct_change_prev_route'].fillna(0)\n",
    "data_season_full.loc[data_season_full['pct_change_prev_route']=='New','pct_change_prev_route'] = float('NaN')"
   ]
  },
  {
   "cell_type": "code",
   "execution_count": null,
   "metadata": {},
   "outputs": [],
   "source": [
    "#UPDATE\n",
    "\n",
    "#add region to data_season_full\n",
    "data_season_full = data_season_full.merge(data[['Arr Airport Code','Region']].drop_duplicates(subset=['Arr Airport Code']),how='left',on=['Arr Airport Code'],validate = 'm:1')\n",
    "\n",
    "regions_pax = pax_data[['Arr Airport Code', 'Arr Region Name', 'International/Domestic']].drop_duplicates(subset=['Arr Airport Code'])\n",
    "regions_pax = regions_pax.merge(regions,left_on=['Arr Region Name'],right_on=['Region (OAG)']).drop(['Region (OAG)'],axis=1)\n",
    "regions_pax.loc[regions_pax['International/Domestic']=='Domestic','Region'] = 'Domestic'\n",
    "\n",
    "data_season_full = data_season_full.merge(regions_pax[['Arr Airport Code','Region']],how='left',on=['Arr Airport Code'],validate = 'm:1')\n",
    "data_season_full['Region'] = data_season_full[['Region_x','Region_y']].apply(lambda x: x.Region_x if pd.isnull(x.Region_x)==False else x.Region_y,axis=1)\n",
    "data_season_full = data_season_full.drop(['Region_x','Region_y'],axis=1)"
   ]
  },
  {
   "cell_type": "code",
   "execution_count": null,
   "metadata": {},
   "outputs": [],
   "source": [
    "#prev year vs year before freq. % change for region\n",
    "region_season = pd.DataFrame(routes_season_full.groupby(['Region','Year','Season'],as_index=False)['Frequency'].sum())\n",
    "region_season['prev_year'] = region_season['Year'].apply(lambda x: x-1)\n",
    "region_season = region_season.merge(region_season,how='left',left_on=['Region','prev_year','Season'],right_on=['Region','Year','Season'],validate = 'm:1')\\\n",
    "    .rename(columns={'Year_x':'Year','prev_year_x':'prev_year','Frequency_x':'Frequency','Frequency_y':'Frequency_prev'}).drop(['Year_y','prev_year_y'],axis=1)\n",
    "region_season['pct_change'] = region_season.apply(lambda x: x['Frequency']/x['Frequency_prev']-1, axis=1)\n",
    "\n",
    "#add region's prev year yoy\n",
    "data_season_full = data_season_full.merge(region_season[['Region','Season','Year','pct_change']],how='left',left_on = ['Region','Season','prev_year'], right_on = ['Region','Season','Year'],validate = 'm:1')\\\n",
    "    .rename(columns={'Year_x':'Year','pct_change':'pct_change_prev_region'}).drop(['Year_y'],axis=1)"
   ]
  },
  {
   "cell_type": "code",
   "execution_count": null,
   "metadata": {},
   "outputs": [],
   "source": [
    "#prev year vs year before freq. % change for dep airport\n",
    "airport_freq=routes_season.groupby(['Year','Season'],as_index=False)['Frequency'].sum()\n",
    "airport_freq['prev_year'] = airport_freq['Year'].apply(lambda x: x-1)\n",
    "airport_freq = airport_freq.merge(airport_freq,how='left',left_on=['prev_year','Season'],right_on=['Year','Season'],validate = 'm:1')\\\n",
    "    .rename(columns={'Year_x':'Year','prev_year_x':'prev_year','Frequency_x':'Frequency','Frequency_y':'Frequency_prev'}).drop(['Year_y','prev_year_y'],axis=1)\n",
    "airport_freq['pct_change'] = airport_freq.apply(lambda x: x['Frequency']/x['Frequency_prev']-1, axis=1)\n",
    "\n",
    "data_season_full = data_season_full.merge(airport_freq[['Season','Year','pct_change']],how='left',left_on = ['Season','prev_year'], right_on = ['Season','Year'],validate = 'm:1')\\\n",
    "    .rename(columns={'Year_x':'Year','pct_change':'pct_change_prev_airport'}).drop(['Year_y'],axis=1)"
   ]
  },
  {
   "cell_type": "markdown",
   "metadata": {},
   "source": [
    "*Route success - Comparison with next year*"
   ]
  },
  {
   "cell_type": "code",
   "execution_count": null,
   "metadata": {},
   "outputs": [],
   "source": [
    "data_season_full.head()"
   ]
  },
  {
   "cell_type": "code",
   "execution_count": null,
   "metadata": {},
   "outputs": [],
   "source": [
    "#add next year (same season) frequencies\n",
    "data_season_full['next_year'] = data_season_full['Year'].apply(lambda x: x+1)\n",
    "data_season_full = data_season_full.merge(data_season[['Carrier Code', 'Arr Airport Code', 'Year', 'Season', 'Frequency']], how = 'left', left_on = ['Carrier Code', 'Arr Airport Code', 'next_year', 'Season'], right_on = ['Carrier Code', 'Arr Airport Code',  'Year', 'Season'],validate = 'm:1')\n",
    "data_season_full = data_season_full.sort_values(['Carrier Code', 'Arr Airport Code', 'Year_x']).rename(columns={'Year_x':'Year','Frequency_x':'Frequency','Frequency_y':'Frequency_next_year','Region_x':'Region'}).drop(['Year_y'],axis=1)"
   ]
  },
  {
   "cell_type": "code",
   "execution_count": null,
   "metadata": {},
   "outputs": [],
   "source": [
    "#clasisfy change in next year (i.e. was route successful)\n",
    "data_season_full['stopped_next_year'] = data_season_full[['Frequency_next_year','Season']].apply(lambda x: is_new(*x,limit_is_route),axis=1)\n",
    "data_season_full.loc[pd.isnull(data_season_full['Frequency']),'stopped_next_year'] = np.nan\n",
    "data_season_full['yoychange_next'] = data_season_full[['Frequency_next_year','Frequency']].apply(lambda x: freq_change(*x),axis=1)\n",
    "data_season_full.loc[pd.isnull(data_season_full['Frequency']),'yoychange_next'] = np.nan"
   ]
  },
  {
   "cell_type": "code",
   "execution_count": null,
   "metadata": {},
   "outputs": [],
   "source": [
    "data_season_full = data_season_full.drop(['prev_year','next_year'],axis=1)"
   ]
  },
  {
   "cell_type": "code",
   "execution_count": null,
   "metadata": {},
   "outputs": [],
   "source": [
    "data_season_full.head()"
   ]
  },
  {
   "cell_type": "code",
   "execution_count": null,
   "metadata": {},
   "outputs": [],
   "source": [
    "data_season_full.shape"
   ]
  },
  {
   "cell_type": "markdown",
   "metadata": {},
   "source": [
    "*Seasonality check*"
   ]
  },
  {
   "cell_type": "code",
   "execution_count": null,
   "metadata": {},
   "outputs": [],
   "source": [
    "#Determine if route is Seasonal (are there any frequency in next/prev season)\n",
    "data_season_full['Prev_Season'] = data_season_full['Season'].apply(lambda x: 'Summer' if x=='Winter' else 'Winter')\n",
    "data_season_full['Prev_Year'] = data_season_full[['Year','Prev_Season']].apply(lambda x: x.Year - 1 if x.Prev_Season=='Winter' else x.Year, axis=1)\n",
    "data_season_full['Next_Season'] = data_season_full['Season'].apply(lambda x: 'Summer' if x=='Winter' else 'Winter')\n",
    "data_season_full['Next_Year'] = data_season_full[['Year','Next_Season']].apply(lambda x: x.Year + 1 if x.Next_Season=='Summer' else x.Year, axis=1)\n",
    "\n",
    "data_season_full = data_season_full.merge(data_season_full[['Carrier Code','Arr Airport Code','Season','Year','Frequency']], how = 'left', left_on = ['Carrier Code','Arr Airport Code','Prev_Season','Prev_Year'], right_on = ['Carrier Code','Arr Airport Code','Season','Year'],validate = 'm:1')\\\n",
    "    .rename(columns = {'Season_x':'Season','Year_x':'Year','Frequency_x':'Frequency','Frequency_y':'Frequency_Prev_Season'}).drop(['Prev_Season','Prev_Year','Season_y','Year_y'],axis=1)\n",
    "data_season_full = data_season_full.merge(data_season_full[['Carrier Code','Arr Airport Code','Season','Year','Frequency']], how = 'left', left_on = ['Carrier Code','Arr Airport Code','Next_Season','Next_Year'], right_on = ['Carrier Code','Arr Airport Code','Season','Year'],validate = 'm:1')\\\n",
    "    .rename(columns = {'Season_x':'Season','Year_x':'Year','Frequency_x':'Frequency','Frequency_y':'Frequency_Next_Season'}).drop(['Next_Season','Next_Year','Season_y','Year_y'],axis=1)\n",
    "\n",
    "data_season_full['Seasonal'] = data_season_full[['Frequency_Prev_Season','Frequency_Next_Season']].apply(lambda x: 1 if np.isnan(x.Frequency_Prev_Season) and np.isnan(x.Frequency_Next_Season) else 0, axis=1)\n",
    "\n",
    "#assign random seasonality to negatives\n",
    "data_season_full.loc[pd.isnull(data_season_full['Frequency']),'Seasonal'] = data_season_full.loc[pd.isnull(data_season_full['Frequency']),'Seasonal'].apply(lambda x: np.random.randint(0, 2))"
   ]
  },
  {
   "cell_type": "markdown",
   "metadata": {},
   "source": [
    "** Add Pax data to schedules **"
   ]
  },
  {
   "cell_type": "code",
   "execution_count": null,
   "metadata": {},
   "outputs": [],
   "source": [
    "#add last year's (same season) direct & indirect pax for Origin/Final dest pair\n",
    "data_season_full['prev_year'] = data_season_full['Year'].apply(lambda x: x-1)\n",
    "data_season_full = data_season_full.merge(od_pax_data_Season_routes[od_pax_data_Season_routes['Direct/Indirect']=='Indirect'], how = 'left', left_on = ['Arr Airport Code', 'prev_year', 'Season'], right_on = ['Arr Airport Code', 'Year', 'Season'],validate = 'm:1')\\\n",
    "    .rename(columns = {'Year_x':'Year', 'Total Est. Pax':'Indirect_Pax_prev_year'}).drop(['Year_y','Direct/Indirect'],axis=1)\n",
    "data_season_full = data_season_full.merge(od_pax_data_Season_routes[od_pax_data_Season_routes['Direct/Indirect']=='Direct'], how = 'left', left_on = ['Arr Airport Code', 'prev_year', 'Season'], right_on = ['Arr Airport Code', 'Year', 'Season'],validate = 'm:1')\\\n",
    "    .rename(columns = {'Year_x':'Year', 'Total Est. Pax':'Dir_Pax_prev_year'}).drop(['Year_y','Direct/Indirect'],axis=1)\n",
    "\n",
    "#replace NA values with 0\n",
    "data_season_full['Indirect_Pax_prev_year'] = data_season_full['Indirect_Pax_prev_year'].fillna(0)\n",
    "data_season_full['Dir_Pax_prev_year'] = data_season_full['Dir_Pax_prev_year'].fillna(0)"
   ]
  },
  {
   "cell_type": "code",
   "execution_count": null,
   "metadata": {},
   "outputs": [],
   "source": [
    "#calculate LF by route\n",
    "routes_season = routes_season.merge(pd.DataFrame(segment_pax_data_Season.groupby(['NextDest', 'Year', 'Season'],as_index=False)['Total Est. Pax'].sum()), how = 'left', left_on = ['Arr Airport Code','Year','Season'], right_on = ['NextDest', 'Year', 'Season'],validate = 'm:1').drop(['NextDest'],axis=1)\n",
    "routes_season['LF'] = routes_season[['Seats (Total)', 'Total Est. Pax']].apply(lambda x: x['Total Est. Pax']/x['Seats (Total)'],axis=1)\n",
    "\n",
    "#check if route has sufficient no. of freq to be considered a route\n",
    "routes_season['is_route'] = routes_season[['Frequency','Season']].apply(lambda x: freq_check_season(*x,limit_is_route),axis=1)\n",
    "\n",
    "#add last year's LFs by route to data_season_full\n",
    "data_season_full = data_season_full.merge(routes_season[routes_season['is_route']==1][['Arr Airport Code','Year','Season','LF']],how='left',left_on = ['Arr Airport Code','prev_year','Season'], right_on = ['Arr Airport Code','Year','Season'],validate = 'm:1')\\\n",
    "                                          .rename(columns={'Year_x':'Year','LF':'LF_route_prev_year'}).drop(['Year_y'],axis=1)\n",
    "\n",
    "#replace NA load factors with 0\n",
    "data_season_full['LF_route_prev_year'] = data_season_full['LF_route_prev_year'].fillna(0)"
   ]
  },
  {
   "cell_type": "code",
   "execution_count": null,
   "metadata": {},
   "outputs": [],
   "source": [
    "#LF by airline/route (to be developed)\n",
    "#data_season = data_season.merge(pd.DataFrame(segment_pax_data_Season.groupby(['Pub. Al. Code (Dominant)','NextDest', 'Year', 'Season'],as_index=False)['Total Est. Pax'].sum()),how='left', left_on = ['Carrier Code','Arr Airport Code','Year','Season'], right_on = ['Pub. Al. Code (Dominant)','NextDest','Year','Season'])"
   ]
  },
  {
   "cell_type": "code",
   "execution_count": null,
   "metadata": {},
   "outputs": [],
   "source": [
    "#Av LF by airline in previous year\n",
    "airline_LF = pd.DataFrame(data_season.groupby(['Carrier Code', 'Year', 'Season'],as_index=False)['Seats (Total)'].sum())\n",
    "airline_LF = airline_LF.merge(pd.DataFrame(segment_pax_data_Season.groupby(['Pub. Al. Code (Dominant)', 'Year', 'Season'],as_index=False)['Total Est. Pax'].sum()), how = 'left', left_on = ['Carrier Code', 'Year', 'Season'], right_on = ['Pub. Al. Code (Dominant)', 'Year', 'Season'],validate = 'm:1')\\\n",
    "    .drop(['Pub. Al. Code (Dominant)'],axis=1)\n",
    "airline_LF['LF'] = airline_LF.apply(lambda x: x['Total Est. Pax']/x['Seats (Total)'],axis=1)\n",
    "\n",
    "#add last year's LFs by airline to data_season_full\n",
    "data_season_full = data_season_full.merge(airline_LF,how='left',left_on = ['Carrier Code','prev_year','Season'], right_on = ['Carrier Code','Year','Season'],validate = 'm:1')\\\n",
    "    .rename(columns={'Year_x':'Year','Seats (Total)_x':'Seats (Total)','LF':'AvLF_airline_prev_year'}).drop(['Year_y', 'Seats (Total)_y', 'Total Est. Pax'],axis=1)                       \n",
    "data_season_full['AvLF_airline_prev_year'] = data_season_full['AvLF_airline_prev_year'].fillna(0)\n"
   ]
  },
  {
   "cell_type": "markdown",
   "metadata": {},
   "source": [
    "Note: something is not right with the LFs. e.g. av. LF for 2015 of 45% and av. LF for Aeagean in 2018 of 48%"
   ]
  },
  {
   "cell_type": "code",
   "execution_count": null,
   "metadata": {},
   "outputs": [],
   "source": [
    "pax_data[pax_data['Year']==2015]['Total Est. Pax'].sum()/data[data['Year']==2015]['Seats (Total)'].sum()"
   ]
  },
  {
   "cell_type": "code",
   "execution_count": null,
   "metadata": {},
   "outputs": [],
   "source": [
    "pax_data[(pax_data['Pub. Al. Code (Dominant)']=='A3') & (pax_data['Year']==2018)]['Total Est. Pax'].sum()/data[(data['Carrier Code']=='A3') & (data['Year']==2018)]['Seats (Total)'].sum()"
   ]
  },
  {
   "cell_type": "markdown",
   "metadata": {},
   "source": [
    "** Keep only required columns **"
   ]
  },
  {
   "cell_type": "code",
   "execution_count": null,
   "metadata": {},
   "outputs": [],
   "source": [
    "data_season_full = data_season_full.drop(['Frequency_next_year','Frequency_Prev_Season', 'Frequency_Next_Season','prev_year'],axis=1)\n"
   ]
  },
  {
   "cell_type": "code",
   "execution_count": null,
   "metadata": {},
   "outputs": [],
   "source": [
    "data_season_full['Frequency_prev_year'] = data_season_full['Frequency_prev_year'].fillna(0)\n",
    "data_season_full['Frequency_prev_year_route'] = data_season_full['Frequency_prev_year_route'].fillna(0)"
   ]
  },
  {
   "cell_type": "markdown",
   "metadata": {},
   "source": [
    "*Add other info*"
   ]
  },
  {
   "cell_type": "code",
   "execution_count": null,
   "metadata": {},
   "outputs": [],
   "source": [
    "route_info = data[['Arr Airport Code','GCD (km)','Flying Time']].copy()\n",
    "route_info['Flight Time'] = route_info['Flying Time'].apply(lambda x: int(x[:2])*60+int(x[3:]))\n",
    "route_info = route_info.drop(['Flying Time'],axis=1)\n",
    "route_info = pd.DataFrame(route_info.groupby(['Arr Airport Code'],as_index=False)[['GCD (km)','Flight Time']].mean())"
   ]
  },
  {
   "cell_type": "code",
   "execution_count": null,
   "metadata": {},
   "outputs": [],
   "source": [
    "data_season_full = data_season_full.merge(route_info,how='left',on=['Arr Airport Code'],validate = 'm:1')"
   ]
  },
  {
   "cell_type": "code",
   "execution_count": null,
   "metadata": {},
   "outputs": [],
   "source": [
    "#airline type lookup (M/L)\n",
    "airline_types = data[['Carrier Code','Mainline/Low Cost']].groupby('Carrier Code',as_index=False)['Mainline/Low Cost'].agg(pd.Series.mode)"
   ]
  },
  {
   "cell_type": "code",
   "execution_count": null,
   "metadata": {},
   "outputs": [],
   "source": [
    "data_season_full = data_season_full.merge(airline_types[['Carrier Code','Mainline/Low Cost']],how='left',on=['Carrier Code'],validate = 'm:1')"
   ]
  },
  {
   "cell_type": "code",
   "execution_count": null,
   "metadata": {},
   "outputs": [],
   "source": [
    "data_season_full = data_season_full.assign(dep=data['Dep Airport Code'][0]).rename(columns={'dep':'Dep Airport Code'})\n",
    "data_season_full = data_season_full.assign(dep=data['Dep IATA Country Name'][0]).rename(columns={'dep':'Dep IATA Country Name'})"
   ]
  },
  {
   "cell_type": "code",
   "execution_count": null,
   "metadata": {},
   "outputs": [],
   "source": [
    "#Add Arr airport country\n",
    "countries = data[['Arr Airport Code','Arr IATA Country Name']].groupby('Arr Airport Code',as_index=False)['Arr IATA Country Name'].agg(pd.Series.mode)\n",
    "countries_pax = pax_data[['Arr Airport Code','Arr DOT Country Name']].groupby('Arr Airport Code',as_index=False)['Arr DOT Country Name'].agg(pd.Series.mode)\n",
    "data_season_full = data_season_full.merge(countries,how='left',on=['Arr Airport Code'],validate = 'm:1')\n",
    "data_season_full = data_season_full.merge(countries_pax,how='left',on=['Arr Airport Code'],validate = 'm:1')\n",
    "\n",
    "data_season_full['Country Name'] = data_season_full[['Arr IATA Country Name','Arr DOT Country Name']].apply(lambda x: x['Arr IATA Country Name'] if pd.isnull(x['Arr IATA Country Name'])==False else x['Arr DOT Country Name'],axis=1)\n",
    "data_season_full = data_season_full.drop(['Arr IATA Country Name','Arr DOT Country Name'],axis=1).rename(columns={'Country Name':'Arr IATA Country Name'})"
   ]
  },
  {
   "cell_type": "code",
   "execution_count": null,
   "metadata": {},
   "outputs": [],
   "source": [
    "#reorder columns\n",
    "data_season_full = data_season_full[['Dep Airport Code', 'Dep IATA Country Name', 'Carrier Code', 'Mainline/Low Cost', 'Arr Airport Code', 'Arr IATA Country Name', 'Region',\n",
    "       'Year', 'Season', 'GCD (km)', 'Flight Time', 'Frequency', 'Seats (Total)', 'Frequency_prev_year',\n",
    "       'is_new_route_airline', 'Frequency_prev_year_route', 'is_new_route',\n",
    "       'is_new_airline', 'yoychange', 'n_airlines_prev_year',\n",
    "       'pct_change_prev', 'pct_change_prev_airline', 'pct_change_prev_route',\n",
    "       'pct_change_prev_region', 'pct_change_prev_airport',\n",
    "       'stopped_next_year', 'yoychange_next', 'Seasonal',\n",
    "       'Indirect_Pax_prev_year', 'Dir_Pax_prev_year', 'LF_route_prev_year',\n",
    "       'AvLF_airline_prev_year']]"
   ]
  },
  {
   "cell_type": "code",
   "execution_count": null,
   "metadata": {},
   "outputs": [],
   "source": [
    "data_season_full.head()"
   ]
  },
  {
   "cell_type": "markdown",
   "metadata": {},
   "source": [
    "## GDP"
   ]
  },
  {
   "cell_type": "code",
   "execution_count": null,
   "metadata": {},
   "outputs": [],
   "source": [
    "GDP = pd.read_csv('Data\\GDP_imf.csv', encoding = \"ISO-8859-1\").rename(columns={'Real GDP growth (Annual percent change)':'Country'})\n",
    "country_lookups = pd.read_csv('Data\\country_lookup.csv', encoding = \"ISO-8859-1\")"
   ]
  },
  {
   "cell_type": "code",
   "execution_count": null,
   "metadata": {},
   "outputs": [],
   "source": [
    "GDP = GDP.merge(country_lookups,how='left',left_on=['Country'],right_on=['IMF Country']).drop(['IMF Country'],axis=1)\n",
    "GDP = GDP.drop(['Country'],axis=1)\n",
    "GDP = GDP.melt(id_vars=['IATA/OAG Country'],var_name='Year').sort_values(['IATA/OAG Country','Year'])\n",
    "GDP['Year']=GDP['Year'].astype(int)\n",
    "GDP['value']=GDP['value'].apply(lambda x: float(x)/100 if x != 'no data' else float('NaN'))"
   ]
  },
  {
   "cell_type": "code",
   "execution_count": null,
   "metadata": {},
   "outputs": [],
   "source": [
    "data_season_full = data_season_full.merge(GDP,how='left',left_on=['Dep IATA Country Name','Year'],right_on=['IATA/OAG Country','Year']).drop(['IATA/OAG Country'],axis=1).rename(columns={'value':'Dep_GDP'})\n",
    "data_season_full = data_season_full.merge(GDP,how='left',left_on=['Arr IATA Country Name','Year'],right_on=['IATA/OAG Country','Year']).drop(['IATA/OAG Country'],axis=1).rename(columns={'value':'Arr_GDP'})"
   ]
  },
  {
   "cell_type": "code",
   "execution_count": null,
   "metadata": {},
   "outputs": [],
   "source": [
    "data_season_full.columns"
   ]
  },
  {
   "cell_type": "code",
   "execution_count": null,
   "metadata": {},
   "outputs": [],
   "source": [
    "data_season_full[pd.isnull(data_season_full['Frequency'])]"
   ]
  },
  {
   "cell_type": "markdown",
   "metadata": {},
   "source": [
    "### Add GCD and Flight Time for rows with missing values"
   ]
  },
  {
   "cell_type": "code",
   "execution_count": null,
   "metadata": {},
   "outputs": [],
   "source": [
    "missing_airports = pd.DataFrame(data_season_full[pd.isnull(data_season_full['GCD (km)'])].drop_duplicates(['Arr Airport Code'])[['Dep Airport Code','Arr Airport Code','Region']]).reset_index(drop=True)"
   ]
  },
  {
   "cell_type": "code",
   "execution_count": null,
   "metadata": {},
   "outputs": [],
   "source": [
    "airports_data = pd.read_csv('Data/Airports Lookups.csv')"
   ]
  },
  {
   "cell_type": "code",
   "execution_count": null,
   "metadata": {},
   "outputs": [],
   "source": [
    "missing_airports = missing_airports.merge(airports_data[['IATA','Latitude','Longitude']],how='left',left_on=['Dep Airport Code'],right_on=['IATA'])\\\n",
    "    .rename(columns={'Longitude':'Dep_Longitude','Latitude':'Dep_Latitude'})\n",
    "missing_airports = missing_airports.merge(airports_data[['IATA','Latitude','Longitude']],how='left',left_on=['Arr Airport Code'],right_on=['IATA'])\\\n",
    "    .rename(columns={'Longitude':'Arr_Longitude','Latitude':'Arr_Latitude'}).drop(['IATA_x','IATA_y'],axis=1)"
   ]
  },
  {
   "cell_type": "code",
   "execution_count": null,
   "metadata": {},
   "outputs": [],
   "source": [
    "import math\n",
    "\n",
    "def gcd_calc(origin, destination):\n",
    "    lat1, lon1 = origin\n",
    "    lat2, lon2 = destination\n",
    "    radius = 6371 # km\n",
    "\n",
    "    dlat = math.radians(lat2-lat1)\n",
    "    dlon = math.radians(lon2-lon1)\n",
    "    a = math.sin(dlat/2) * math.sin(dlat/2) + math.cos(math.radians(lat1)) \\\n",
    "        * math.cos(math.radians(lat2)) * math.sin(dlon/2) * math.sin(dlon/2)\n",
    "    c = 2 * math.atan2(math.sqrt(a), math.sqrt(1-a))\n",
    "    d = radius * c\n",
    "\n",
    "    return d"
   ]
  },
  {
   "cell_type": "code",
   "execution_count": null,
   "metadata": {},
   "outputs": [],
   "source": [
    "missing_airports['Distance'] = missing_airports[['Dep_Latitude', 'Dep_Longitude','Arr_Latitude', 'Arr_Longitude']].apply(lambda x: gcd_calc((x.Dep_Latitude,x.Dep_Longitude),(x.Arr_Latitude,x.Arr_Longitude)),axis=1) "
   ]
  },
  {
   "cell_type": "code",
   "execution_count": null,
   "metadata": {},
   "outputs": [],
   "source": [
    "av_speed = data_season_full[['Region','GCD (km)','Flight Time']].groupby(['Region'],as_index=False)[['GCD (km)','Flight Time']].sum()\n",
    "av_speed['Speed'] = av_speed.apply(lambda x: x['GCD (km)']/x['Flight Time'],axis=1)\n",
    "av_speed = av_speed.drop(['GCD (km)','Flight Time'],axis=1)"
   ]
  },
  {
   "cell_type": "code",
   "execution_count": null,
   "metadata": {},
   "outputs": [],
   "source": [
    "missing_airports = missing_airports.merge(av_speed,how='left',on=['Region'],validate = 'm:1')\n",
    "missing_airports['Est. Flight Time'] = missing_airports[['Distance','Speed']].apply(lambda x: x.Distance/x.Speed,axis=1)\n",
    "missing_airports = missing_airports.drop(['Speed'],axis=1)"
   ]
  },
  {
   "cell_type": "code",
   "execution_count": null,
   "metadata": {},
   "outputs": [],
   "source": [
    "data_season_full = data_season_full.merge(missing_airports[['Arr Airport Code','Distance','Est. Flight Time']],how='left',on=['Arr Airport Code'])\n",
    "data_season_full['GCD (km)'] = data_season_full[['GCD (km)','Distance']].apply(lambda x: x['Distance'] if pd.isnull(x['GCD (km)']) else x['GCD (km)'] ,axis=1)\n",
    "data_season_full['Flight Time'] = data_season_full[['Flight Time','Est. Flight Time']].apply(lambda x: x['Est. Flight Time'] if pd.isnull(x['Flight Time']) else x['Flight Time'], axis=1)\n",
    "data_season_full = data_season_full.drop(['Distance','Est. Flight Time'],axis=1)"
   ]
  },
  {
   "cell_type": "markdown",
   "metadata": {},
   "source": [
    "### Add labels"
   ]
  },
  {
   "cell_type": "code",
   "execution_count": null,
   "metadata": {},
   "outputs": [],
   "source": [
    "data_season_full.loc[data_season_full['yoychange']==1,'Label'] = 'Increase'\n",
    "data_season_full.loc[data_season_full['yoychange']==-1,'Label'] = 'Decrease'\n",
    "data_season_full.loc[data_season_full['yoychange']==0,'Label'] = 'Flat'\n",
    "data_season_full.loc[data_season_full['is_new_route_airline']==1,'Label'] = 'New route'\n",
    "data_season_full.loc[pd.isnull(data_season_full['Frequency']),'Label'] = 'Negative'"
   ]
  },
  {
   "cell_type": "markdown",
   "metadata": {},
   "source": [
    "### Add frequencies and seats to negatives"
   ]
  },
  {
   "cell_type": "code",
   "execution_count": 103,
   "metadata": {},
   "outputs": [],
   "source": [
    "'''NEW'''\n",
    "#Calculate average seats by airline and region\n",
    "airline_stats = data[['Carrier Code','Year','Season','Region','Frequency','Seats (Total)']].groupby(['Carrier Code','Year','Season','Region'],as_index=False)['Frequency','Seats (Total)'].sum()\n",
    "airline_stats['Av. Seats'] = airline_stats['Seats (Total)']/airline_stats['Frequency']\n",
    "\n",
    "#Calculate average frequencies in season by airline and region and add to airline stats\n",
    "data_season_ = pd.DataFrame(data.groupby(['Carrier Code', 'Arr Airport Code', 'Year', 'Season', 'Region'],as_index=False)['Frequency','Seats (Total)'].sum())\n",
    "airline_stats = airline_stats.merge(data_season_.groupby(['Carrier Code','Year','Season','Region'],as_index=False)['Frequency'].mean().rename(columns={'Frequency':'Mean_Frequency'}),\\\n",
    "    how='left',on=['Carrier Code','Year','Season','Region'],validate = 'm:1')"
   ]
  },
  {
   "cell_type": "code",
   "execution_count": 165,
   "metadata": {},
   "outputs": [],
   "source": [
    "data_season_full = data[data['Dep Airport Code']=='ATH']"
   ]
  },
  {
   "cell_type": "code",
   "execution_count": 166,
   "metadata": {},
   "outputs": [],
   "source": [
    "data_season_full = data_season_full.merge(airline_stats[['Carrier Code', 'Year', 'Season', 'Region','Av. Seats', 'Mean_Frequency']],how='left',on=['Carrier Code','Year','Season','Region'],validate = 'm:1')"
   ]
  },
  {
   "cell_type": "code",
   "execution_count": 162,
   "metadata": {},
   "outputs": [],
   "source": [
    "data_season_full = data_season_full[(~pd.isnull(data_season_full['Av. Seats']))&(data_season_full['Mean_Frequency']>0)]\n",
    "\n",
    "data_season_full.loc[data_season_full['Label']=='Negative','Frequency'] = round(data_season_full['Mean_Frequency'])\n",
    "data_season_full.loc[data_season_full['Label']=='Negative','Seats (Total)'] = round(data_season_full['Mean_Frequency']*data_season_full['Av. Seats'])"
   ]
  },
  {
   "cell_type": "code",
   "execution_count": 163,
   "metadata": {},
   "outputs": [],
   "source": [
    "data_season_full = data_season_full.drop(['Mean_Frequency','Av. Seats'],axis=1)"
   ]
  },
  {
   "cell_type": "markdown",
   "metadata": {},
   "source": [
    "### Check function"
   ]
  },
  {
   "cell_type": "code",
   "execution_count": null,
   "metadata": {},
   "outputs": [],
   "source": [
    "#from matrix_generator import matrix_generator\n",
    "#matrix_generator('ATH',overwrite=True)"
   ]
  },
  {
   "cell_type": "code",
   "execution_count": null,
   "metadata": {},
   "outputs": [],
   "source": [
    "data_season_full.to_csv('Data/Matrices/ATH_Data_test.csv')"
   ]
  },
  {
   "cell_type": "code",
   "execution_count": null,
   "metadata": {},
   "outputs": [],
   "source": [
    "ATH_matrix = pd.read_csv('Data/Matrices/ATH_Data.csv')"
   ]
  },
  {
   "cell_type": "markdown",
   "metadata": {},
   "source": [
    "# Prediction"
   ]
  },
  {
   "cell_type": "code",
   "execution_count": 2,
   "metadata": {},
   "outputs": [],
   "source": [
    "#airport_list = ['AGP','ARN','ATH','AYT','BCN','BRU','CPH','DUS','FCO','GVA','HAM','HEL','LIS','VIE','WAW','ZRH']\n",
    "airport_list = ['ATH','BCN'] "
   ]
  },
  {
   "cell_type": "code",
   "execution_count": 3,
   "metadata": {},
   "outputs": [],
   "source": [
    "data = pd.DataFrame()\n",
    "for airport in airport_list:\n",
    "    data = data.append(pd.read_csv('Data/Matrices/'+airport+'_Data.csv'))\n"
   ]
  },
  {
   "cell_type": "code",
   "execution_count": 4,
   "metadata": {},
   "outputs": [
    {
     "name": "stdout",
     "output_type": "stream",
     "text": [
      "The dataset has 23,023 records\n",
      "\n",
      "\n",
      "New route records: 3,213 (14.0%)\n",
      "Records representing existing routes with freq increase: 6,837 (29.7%)\n",
      "Records representing existing routes with freq decrease: 5,903 (25.6%)\n",
      "Records representing existing routes with flat freq: 1,171 (5.1%)\n",
      "Negative records (i.e. routes that were not started): 5,899 (25.6%)\n"
     ]
    }
   ],
   "source": [
    "print('The dataset has {:,} records'.format(len(data)))\n",
    "print('\\n')\n",
    "print('New route records: {:,} ({:.1f}%)'.format(len(data[data['Label']=='New route']),100*len(data[data['Label']=='New route'])/len(data)))\n",
    "print('Records representing existing routes with freq increase: {:,} ({:.1f}%)'.format(len(data[data['Label']=='Increase']),100*len(data[data['Label']=='Increase'])/len(data)))\n",
    "print('Records representing existing routes with freq decrease: {:,} ({:.1f}%)'.format(len(data[data['Label']=='Decrease']),100*len(data[data['Label']=='Decrease'])/len(data)))\n",
    "print('Records representing existing routes with flat freq: {:,} ({:.1f}%)'.format(len(data[data['Label']=='Flat']),100*len(data[data['Label']=='Flat'])/len(data)))\n",
    "print('Negative records (i.e. routes that were not started): {:,} ({:.1f}%)'.format(len(data[data['Label']=='Negative']),100*len(data[data['Label']=='Negative'])/len(data)))"
   ]
  },
  {
   "cell_type": "code",
   "execution_count": 5,
   "metadata": {},
   "outputs": [
    {
     "data": {
      "text/html": [
       "<div>\n",
       "<style scoped>\n",
       "    .dataframe tbody tr th:only-of-type {\n",
       "        vertical-align: middle;\n",
       "    }\n",
       "\n",
       "    .dataframe tbody tr th {\n",
       "        vertical-align: top;\n",
       "    }\n",
       "\n",
       "    .dataframe thead th {\n",
       "        text-align: right;\n",
       "    }\n",
       "</style>\n",
       "<table border=\"1\" class=\"dataframe\">\n",
       "  <thead>\n",
       "    <tr style=\"text-align: right;\">\n",
       "      <th></th>\n",
       "      <th>Year</th>\n",
       "      <th>GCD (km)</th>\n",
       "      <th>Flight Time</th>\n",
       "      <th>Frequency</th>\n",
       "      <th>Seats (Total)</th>\n",
       "      <th>Frequency_prev_year</th>\n",
       "      <th>is_new_route_airline</th>\n",
       "      <th>Frequency_prev_year_route</th>\n",
       "      <th>is_new_route</th>\n",
       "      <th>is_new_airline</th>\n",
       "      <th>...</th>\n",
       "      <th>pct_change_prev_airport</th>\n",
       "      <th>stopped_next_year</th>\n",
       "      <th>yoychange_next</th>\n",
       "      <th>Seasonal</th>\n",
       "      <th>Indirect_Pax_prev_year</th>\n",
       "      <th>Dir_Pax_prev_year</th>\n",
       "      <th>LF_route_prev_year</th>\n",
       "      <th>AvLF_airline_prev_year</th>\n",
       "      <th>Dep_GDP</th>\n",
       "      <th>Arr_GDP</th>\n",
       "    </tr>\n",
       "  </thead>\n",
       "  <tbody>\n",
       "    <tr>\n",
       "      <th>count</th>\n",
       "      <td>23023.000000</td>\n",
       "      <td>23016.000000</td>\n",
       "      <td>23016.000000</td>\n",
       "      <td>23023.000000</td>\n",
       "      <td>2.302300e+04</td>\n",
       "      <td>23023.000000</td>\n",
       "      <td>23023.000000</td>\n",
       "      <td>23023.000000</td>\n",
       "      <td>23023.000000</td>\n",
       "      <td>23023.000000</td>\n",
       "      <td>...</td>\n",
       "      <td>21235.000000</td>\n",
       "      <td>17124.000000</td>\n",
       "      <td>17124.000000</td>\n",
       "      <td>23023.000000</td>\n",
       "      <td>23023.000000</td>\n",
       "      <td>23023.000000</td>\n",
       "      <td>23023.000000</td>\n",
       "      <td>23023.000000</td>\n",
       "      <td>23023.000000</td>\n",
       "      <td>22994.000000</td>\n",
       "    </tr>\n",
       "    <tr>\n",
       "      <th>mean</th>\n",
       "      <td>2011.146940</td>\n",
       "      <td>1791.561694</td>\n",
       "      <td>176.079981</td>\n",
       "      <td>230.655127</td>\n",
       "      <td>3.476768e+04</td>\n",
       "      <td>167.888155</td>\n",
       "      <td>0.395778</td>\n",
       "      <td>501.472875</td>\n",
       "      <td>0.211093</td>\n",
       "      <td>0.105156</td>\n",
       "      <td>...</td>\n",
       "      <td>0.019556</td>\n",
       "      <td>0.187631</td>\n",
       "      <td>-0.133088</td>\n",
       "      <td>0.220953</td>\n",
       "      <td>1173.614299</td>\n",
       "      <td>19429.336707</td>\n",
       "      <td>0.245850</td>\n",
       "      <td>0.284431</td>\n",
       "      <td>0.010843</td>\n",
       "      <td>0.019444</td>\n",
       "    </tr>\n",
       "    <tr>\n",
       "      <th>std</th>\n",
       "      <td>5.616412</td>\n",
       "      <td>1814.858628</td>\n",
       "      <td>137.734257</td>\n",
       "      <td>351.424873</td>\n",
       "      <td>5.676756e+04</td>\n",
       "      <td>347.914442</td>\n",
       "      <td>0.489028</td>\n",
       "      <td>980.077064</td>\n",
       "      <td>0.408093</td>\n",
       "      <td>0.306761</td>\n",
       "      <td>...</td>\n",
       "      <td>0.072823</td>\n",
       "      <td>0.390429</td>\n",
       "      <td>0.956011</td>\n",
       "      <td>0.414898</td>\n",
       "      <td>2728.555063</td>\n",
       "      <td>50980.938627</td>\n",
       "      <td>0.318188</td>\n",
       "      <td>0.363867</td>\n",
       "      <td>0.032381</td>\n",
       "      <td>0.033194</td>\n",
       "    </tr>\n",
       "    <tr>\n",
       "      <th>min</th>\n",
       "      <td>2001.000000</td>\n",
       "      <td>106.301220</td>\n",
       "      <td>35.182927</td>\n",
       "      <td>1.000000</td>\n",
       "      <td>2.900000e+01</td>\n",
       "      <td>0.000000</td>\n",
       "      <td>0.000000</td>\n",
       "      <td>0.000000</td>\n",
       "      <td>0.000000</td>\n",
       "      <td>0.000000</td>\n",
       "      <td>...</td>\n",
       "      <td>-0.174414</td>\n",
       "      <td>0.000000</td>\n",
       "      <td>-1.000000</td>\n",
       "      <td>0.000000</td>\n",
       "      <td>0.000000</td>\n",
       "      <td>0.000000</td>\n",
       "      <td>0.000000</td>\n",
       "      <td>0.000000</td>\n",
       "      <td>-0.091000</td>\n",
       "      <td>-0.667000</td>\n",
       "    </tr>\n",
       "    <tr>\n",
       "      <th>25%</th>\n",
       "      <td>2007.000000</td>\n",
       "      <td>763.893179</td>\n",
       "      <td>97.866229</td>\n",
       "      <td>57.000000</td>\n",
       "      <td>7.616000e+03</td>\n",
       "      <td>0.000000</td>\n",
       "      <td>0.000000</td>\n",
       "      <td>35.000000</td>\n",
       "      <td>0.000000</td>\n",
       "      <td>0.000000</td>\n",
       "      <td>...</td>\n",
       "      <td>-0.014929</td>\n",
       "      <td>0.000000</td>\n",
       "      <td>-1.000000</td>\n",
       "      <td>0.000000</td>\n",
       "      <td>0.000000</td>\n",
       "      <td>0.000000</td>\n",
       "      <td>0.000000</td>\n",
       "      <td>0.000000</td>\n",
       "      <td>-0.003000</td>\n",
       "      <td>0.008000</td>\n",
       "    </tr>\n",
       "    <tr>\n",
       "      <th>50%</th>\n",
       "      <td>2011.000000</td>\n",
       "      <td>1280.646209</td>\n",
       "      <td>143.584781</td>\n",
       "      <td>130.000000</td>\n",
       "      <td>1.814400e+04</td>\n",
       "      <td>59.000000</td>\n",
       "      <td>0.000000</td>\n",
       "      <td>206.000000</td>\n",
       "      <td>0.000000</td>\n",
       "      <td>0.000000</td>\n",
       "      <td>...</td>\n",
       "      <td>0.036803</td>\n",
       "      <td>0.000000</td>\n",
       "      <td>-1.000000</td>\n",
       "      <td>0.000000</td>\n",
       "      <td>0.000000</td>\n",
       "      <td>0.000000</td>\n",
       "      <td>0.000000</td>\n",
       "      <td>0.000000</td>\n",
       "      <td>0.020000</td>\n",
       "      <td>0.020000</td>\n",
       "    </tr>\n",
       "    <tr>\n",
       "      <th>75%</th>\n",
       "      <td>2016.000000</td>\n",
       "      <td>2172.983673</td>\n",
       "      <td>205.756681</td>\n",
       "      <td>277.000000</td>\n",
       "      <td>4.019600e+04</td>\n",
       "      <td>212.000000</td>\n",
       "      <td>1.000000</td>\n",
       "      <td>598.000000</td>\n",
       "      <td>0.000000</td>\n",
       "      <td>0.000000</td>\n",
       "      <td>...</td>\n",
       "      <td>0.061304</td>\n",
       "      <td>0.000000</td>\n",
       "      <td>1.000000</td>\n",
       "      <td>0.000000</td>\n",
       "      <td>1176.000000</td>\n",
       "      <td>14868.000000</td>\n",
       "      <td>0.579709</td>\n",
       "      <td>0.596428</td>\n",
       "      <td>0.033000</td>\n",
       "      <td>0.035000</td>\n",
       "    </tr>\n",
       "    <tr>\n",
       "      <th>max</th>\n",
       "      <td>2020.000000</td>\n",
       "      <td>13423.330752</td>\n",
       "      <td>1091.045744</td>\n",
       "      <td>8596.000000</td>\n",
       "      <td>1.420686e+06</td>\n",
       "      <td>8596.000000</td>\n",
       "      <td>1.000000</td>\n",
       "      <td>13977.000000</td>\n",
       "      <td>1.000000</td>\n",
       "      <td>1.000000</td>\n",
       "      <td>...</td>\n",
       "      <td>0.147464</td>\n",
       "      <td>1.000000</td>\n",
       "      <td>1.000000</td>\n",
       "      <td>1.000000</td>\n",
       "      <td>49668.000000</td>\n",
       "      <td>805164.000000</td>\n",
       "      <td>3.522902</td>\n",
       "      <td>10.331439</td>\n",
       "      <td>0.058000</td>\n",
       "      <td>1.247000</td>\n",
       "    </tr>\n",
       "  </tbody>\n",
       "</table>\n",
       "<p>8 rows × 26 columns</p>\n",
       "</div>"
      ],
      "text/plain": [
       "               Year      GCD (km)   Flight Time     Frequency  Seats (Total)  \\\n",
       "count  23023.000000  23016.000000  23016.000000  23023.000000   2.302300e+04   \n",
       "mean    2011.146940   1791.561694    176.079981    230.655127   3.476768e+04   \n",
       "std        5.616412   1814.858628    137.734257    351.424873   5.676756e+04   \n",
       "min     2001.000000    106.301220     35.182927      1.000000   2.900000e+01   \n",
       "25%     2007.000000    763.893179     97.866229     57.000000   7.616000e+03   \n",
       "50%     2011.000000   1280.646209    143.584781    130.000000   1.814400e+04   \n",
       "75%     2016.000000   2172.983673    205.756681    277.000000   4.019600e+04   \n",
       "max     2020.000000  13423.330752   1091.045744   8596.000000   1.420686e+06   \n",
       "\n",
       "       Frequency_prev_year  is_new_route_airline  Frequency_prev_year_route  \\\n",
       "count         23023.000000          23023.000000               23023.000000   \n",
       "mean            167.888155              0.395778                 501.472875   \n",
       "std             347.914442              0.489028                 980.077064   \n",
       "min               0.000000              0.000000                   0.000000   \n",
       "25%               0.000000              0.000000                  35.000000   \n",
       "50%              59.000000              0.000000                 206.000000   \n",
       "75%             212.000000              1.000000                 598.000000   \n",
       "max            8596.000000              1.000000               13977.000000   \n",
       "\n",
       "       is_new_route  is_new_airline      ...       pct_change_prev_airport  \\\n",
       "count  23023.000000    23023.000000      ...                  21235.000000   \n",
       "mean       0.211093        0.105156      ...                      0.019556   \n",
       "std        0.408093        0.306761      ...                      0.072823   \n",
       "min        0.000000        0.000000      ...                     -0.174414   \n",
       "25%        0.000000        0.000000      ...                     -0.014929   \n",
       "50%        0.000000        0.000000      ...                      0.036803   \n",
       "75%        0.000000        0.000000      ...                      0.061304   \n",
       "max        1.000000        1.000000      ...                      0.147464   \n",
       "\n",
       "       stopped_next_year  yoychange_next      Seasonal  \\\n",
       "count       17124.000000    17124.000000  23023.000000   \n",
       "mean            0.187631       -0.133088      0.220953   \n",
       "std             0.390429        0.956011      0.414898   \n",
       "min             0.000000       -1.000000      0.000000   \n",
       "25%             0.000000       -1.000000      0.000000   \n",
       "50%             0.000000       -1.000000      0.000000   \n",
       "75%             0.000000        1.000000      0.000000   \n",
       "max             1.000000        1.000000      1.000000   \n",
       "\n",
       "       Indirect_Pax_prev_year  Dir_Pax_prev_year  LF_route_prev_year  \\\n",
       "count            23023.000000       23023.000000        23023.000000   \n",
       "mean              1173.614299       19429.336707            0.245850   \n",
       "std               2728.555063       50980.938627            0.318188   \n",
       "min                  0.000000           0.000000            0.000000   \n",
       "25%                  0.000000           0.000000            0.000000   \n",
       "50%                  0.000000           0.000000            0.000000   \n",
       "75%               1176.000000       14868.000000            0.579709   \n",
       "max              49668.000000      805164.000000            3.522902   \n",
       "\n",
       "       AvLF_airline_prev_year       Dep_GDP       Arr_GDP  \n",
       "count            23023.000000  23023.000000  22994.000000  \n",
       "mean                 0.284431      0.010843      0.019444  \n",
       "std                  0.363867      0.032381      0.033194  \n",
       "min                  0.000000     -0.091000     -0.667000  \n",
       "25%                  0.000000     -0.003000      0.008000  \n",
       "50%                  0.000000      0.020000      0.020000  \n",
       "75%                  0.596428      0.033000      0.035000  \n",
       "max                 10.331439      0.058000      1.247000  \n",
       "\n",
       "[8 rows x 26 columns]"
      ]
     },
     "execution_count": 5,
     "metadata": {},
     "output_type": "execute_result"
    }
   ],
   "source": [
    "data.describe()"
   ]
  },
  {
   "cell_type": "code",
   "execution_count": 6,
   "metadata": {},
   "outputs": [
    {
     "data": {
      "image/png": "[encoded data removed]",
      "text/plain": [
       "<Figure size 720x360 with 1 Axes>"
      ]
     },
     "metadata": {
      "needs_background": "light"
     },
     "output_type": "display_data"
    }
   ],
   "source": [
    "data_airport = data.groupby(['Dep Airport Code'])['Label'].value_counts().to_frame().rename(columns={'Label':'count'}).reset_index().sort_values(['Dep Airport Code','Label'])\n",
    "#airports_chart = ['AGP','ARN','ATH','AYT']\n",
    "airports_chart = airport_list\n",
    "\n",
    "pivot_data_airport= data_airport[data_airport['Dep Airport Code'].isin(airports_chart)].pivot(index='Dep Airport Code', columns='Label', values='count')\n",
    "plot = pivot_data_airport.loc[:,['New route','Negative','Increase','Flat','Decrease']].plot.bar(stacked=True, figsize=(10,5))\n",
    "plot = plot.set_ylabel('Number of records')"
   ]
  },
  {
   "cell_type": "code",
   "execution_count": 7,
   "metadata": {},
   "outputs": [
    {
     "data": {
      "image/png": "[encoded data removed]",
      "text/plain": [
       "<Figure size 720x360 with 1 Axes>"
      ]
     },
     "metadata": {
      "needs_background": "light"
     },
     "output_type": "display_data"
    }
   ],
   "source": [
    "airports_chart = airport_list\n",
    "data_year = data[data['Dep Airport Code'].isin(airports_chart)].groupby(['Year'])['Label'].value_counts().to_frame().rename(columns={'Label':'count'}).reset_index().sort_values(['Year','Label'])\n",
    "\n",
    "pivot_data_year= data_year.pivot(index='Year', columns='Label', values='count')\n",
    "#plot = pivot_data_year.loc[2002:2019,['New route','Negative','Increase','Flat','Decrease']].plot.bar(stacked=True, figsize=(10,5))\n",
    "cat_plot = 'New route'\n",
    "plot = pivot_data_year.loc[2002:2019,cat_plot].plot.bar(stacked=False, figsize=(10,5),color=(0/255,176/255,223/255),title=cat_plot+' records')\n",
    "plot = plot.set_ylabel('Number of records')"
   ]
  },
  {
   "cell_type": "code",
   "execution_count": 8,
   "metadata": {},
   "outputs": [
    {
     "data": {
      "image/png": "[encoded data removed]",
      "text/plain": [
       "<Figure size 720x360 with 1 Axes>"
      ]
     },
     "metadata": {
      "needs_background": "light"
     },
     "output_type": "display_data"
    }
   ],
   "source": [
    "airport = 'ATH'\n",
    "airport_year = data[data['Dep Airport Code']==airport].groupby(['Year','Dep Airport Code'])['Frequency'].sum().to_frame().reset_index()\n",
    "\n",
    "pivot_airport_year= airport_year.pivot(index='Year', columns='Dep Airport Code', values='Frequency')\n",
    "plot = pivot_airport_year.loc[2001:2019,airport].plot.bar(stacked=False, figsize=(10,5),color=(0/255,176/255,223/255),title=airport)\n",
    "plot = plot.set_ylabel('ATMs')"
   ]
  },
  {
   "cell_type": "code",
   "execution_count": 9,
   "metadata": {},
   "outputs": [
    {
     "data": {
      "text/plain": [
       "Dep Airport Code                0\n",
       "Dep IATA Country Name           0\n",
       "Carrier Code                    0\n",
       "Mainline/Low Cost               0\n",
       "Arr Airport Code                0\n",
       "Arr IATA Country Name           0\n",
       "Region                          0\n",
       "Year                            0\n",
       "Season                          0\n",
       "GCD (km)                        7\n",
       "Flight Time                     7\n",
       "Frequency                       0\n",
       "Seats (Total)                   0\n",
       "Frequency_prev_year             0\n",
       "is_new_route_airline            0\n",
       "Frequency_prev_year_route       0\n",
       "is_new_route                    0\n",
       "is_new_airline                  0\n",
       "yoychange                       0\n",
       "n_airlines_prev_year            0\n",
       "pct_change_prev              2528\n",
       "pct_change_prev_airline      2151\n",
       "pct_change_prev_route        1828\n",
       "pct_change_prev_region       1860\n",
       "pct_change_prev_airport      1788\n",
       "stopped_next_year            5899\n",
       "yoychange_next               5899\n",
       "Seasonal                        0\n",
       "Indirect_Pax_prev_year          0\n",
       "Dir_Pax_prev_year               0\n",
       "LF_route_prev_year              0\n",
       "AvLF_airline_prev_year          0\n",
       "Dep_GDP                         0\n",
       "Arr_GDP                        29\n",
       "Label                           0\n",
       "dtype: int64"
      ]
     },
     "execution_count": 9,
     "metadata": {},
     "output_type": "execute_result"
    }
   ],
   "source": [
    "data.isna().sum()"
   ]
  },
  {
   "cell_type": "code",
   "execution_count": 10,
   "metadata": {},
   "outputs": [],
   "source": [
    "data_clean = data.drop(['pct_change_prev','stopped_next_year','yoychange_next'],axis=1)"
   ]
  },
  {
   "cell_type": "code",
   "execution_count": 11,
   "metadata": {},
   "outputs": [
    {
     "data": {
      "text/plain": [
       "Dep Airport Code                0\n",
       "Dep IATA Country Name           0\n",
       "Carrier Code                    0\n",
       "Mainline/Low Cost               0\n",
       "Arr Airport Code                0\n",
       "Arr IATA Country Name           0\n",
       "Region                          0\n",
       "Year                            0\n",
       "Season                          0\n",
       "GCD (km)                        7\n",
       "Flight Time                     7\n",
       "Frequency                       0\n",
       "Seats (Total)                   0\n",
       "Frequency_prev_year             0\n",
       "is_new_route_airline            0\n",
       "Frequency_prev_year_route       0\n",
       "is_new_route                    0\n",
       "is_new_airline                  0\n",
       "yoychange                       0\n",
       "n_airlines_prev_year            0\n",
       "pct_change_prev_airline      2151\n",
       "pct_change_prev_route        1828\n",
       "pct_change_prev_region       1860\n",
       "pct_change_prev_airport      1788\n",
       "Seasonal                        0\n",
       "Indirect_Pax_prev_year          0\n",
       "Dir_Pax_prev_year               0\n",
       "LF_route_prev_year              0\n",
       "AvLF_airline_prev_year          0\n",
       "Dep_GDP                         0\n",
       "Arr_GDP                        29\n",
       "Label                           0\n",
       "dtype: int64"
      ]
     },
     "execution_count": 11,
     "metadata": {},
     "output_type": "execute_result"
    }
   ],
   "source": [
    "data_clean.isna().sum()"
   ]
  },
  {
   "cell_type": "code",
   "execution_count": 12,
   "metadata": {},
   "outputs": [],
   "source": [
    "data_clean = data_clean.dropna().reset_index(drop=True)"
   ]
  },
  {
   "cell_type": "code",
   "execution_count": 13,
   "metadata": {},
   "outputs": [
    {
     "data": {
      "text/plain": [
       "0.8225687356122139"
      ]
     },
     "execution_count": 13,
     "metadata": {},
     "output_type": "execute_result"
    }
   ],
   "source": [
    "len(data_clean)/len(data)"
   ]
  },
  {
   "cell_type": "code",
   "execution_count": 14,
   "metadata": {},
   "outputs": [],
   "source": [
    "data_clean = data_clean.drop(['Dep Airport Code', 'Dep IATA Country Name', 'Carrier Code',\\\n",
    "    'Arr Airport Code', 'Arr IATA Country Name', 'Year'],axis=1)"
   ]
  },
  {
   "cell_type": "code",
   "execution_count": 15,
   "metadata": {},
   "outputs": [
    {
     "data": {
      "text/plain": [
       "Mainline/Low Cost             object\n",
       "Region                        object\n",
       "Season                        object\n",
       "GCD (km)                     float64\n",
       "Flight Time                  float64\n",
       "Frequency                    float64\n",
       "Seats (Total)                float64\n",
       "Frequency_prev_year          float64\n",
       "is_new_route_airline           int64\n",
       "Frequency_prev_year_route    float64\n",
       "is_new_route                 float64\n",
       "is_new_airline                 int64\n",
       "yoychange                      int64\n",
       "n_airlines_prev_year         float64\n",
       "pct_change_prev_airline      float64\n",
       "pct_change_prev_route        float64\n",
       "pct_change_prev_region       float64\n",
       "pct_change_prev_airport      float64\n",
       "Seasonal                       int64\n",
       "Indirect_Pax_prev_year       float64\n",
       "Dir_Pax_prev_year            float64\n",
       "LF_route_prev_year           float64\n",
       "AvLF_airline_prev_year       float64\n",
       "Dep_GDP                      float64\n",
       "Arr_GDP                      float64\n",
       "Label                         object\n",
       "dtype: object"
      ]
     },
     "execution_count": 15,
     "metadata": {},
     "output_type": "execute_result"
    }
   ],
   "source": [
    "data_clean.dtypes"
   ]
  },
  {
   "cell_type": "code",
   "execution_count": 16,
   "metadata": {},
   "outputs": [],
   "source": [
    "data_clean = pd.get_dummies(data_clean,columns=['Mainline/Low Cost','Region','Season','is_new_route_airline','is_new_route',\\\n",
    "                                                'is_new_airline','yoychange','Seasonal'])"
   ]
  },
  {
   "cell_type": "code",
   "execution_count": 17,
   "metadata": {},
   "outputs": [
    {
     "data": {
      "text/html": [
       "<div>\n",
       "<style scoped>\n",
       "    .dataframe tbody tr th:only-of-type {\n",
       "        vertical-align: middle;\n",
       "    }\n",
       "\n",
       "    .dataframe tbody tr th {\n",
       "        vertical-align: top;\n",
       "    }\n",
       "\n",
       "    .dataframe thead th {\n",
       "        text-align: right;\n",
       "    }\n",
       "</style>\n",
       "<table border=\"1\" class=\"dataframe\">\n",
       "  <thead>\n",
       "    <tr style=\"text-align: right;\">\n",
       "      <th></th>\n",
       "      <th>GCD (km)</th>\n",
       "      <th>Flight Time</th>\n",
       "      <th>Frequency</th>\n",
       "      <th>Seats (Total)</th>\n",
       "      <th>Frequency_prev_year</th>\n",
       "      <th>Frequency_prev_year_route</th>\n",
       "      <th>n_airlines_prev_year</th>\n",
       "      <th>pct_change_prev_airline</th>\n",
       "      <th>pct_change_prev_route</th>\n",
       "      <th>pct_change_prev_region</th>\n",
       "      <th>...</th>\n",
       "      <th>is_new_route_airline_1</th>\n",
       "      <th>is_new_route_0.0</th>\n",
       "      <th>is_new_route_1.0</th>\n",
       "      <th>is_new_airline_0</th>\n",
       "      <th>is_new_airline_1</th>\n",
       "      <th>yoychange_-1</th>\n",
       "      <th>yoychange_0</th>\n",
       "      <th>yoychange_1</th>\n",
       "      <th>Seasonal_0</th>\n",
       "      <th>Seasonal_1</th>\n",
       "    </tr>\n",
       "  </thead>\n",
       "  <tbody>\n",
       "    <tr>\n",
       "      <th>0</th>\n",
       "      <td>1872.000000</td>\n",
       "      <td>176.142857</td>\n",
       "      <td>76.0</td>\n",
       "      <td>11412.0</td>\n",
       "      <td>0.0</td>\n",
       "      <td>0.0</td>\n",
       "      <td>0.0</td>\n",
       "      <td>0.000000</td>\n",
       "      <td>0.000000</td>\n",
       "      <td>0.131542</td>\n",
       "      <td>...</td>\n",
       "      <td>1</td>\n",
       "      <td>0</td>\n",
       "      <td>1</td>\n",
       "      <td>0</td>\n",
       "      <td>1</td>\n",
       "      <td>0</td>\n",
       "      <td>0</td>\n",
       "      <td>1</td>\n",
       "      <td>1</td>\n",
       "      <td>0</td>\n",
       "    </tr>\n",
       "    <tr>\n",
       "      <th>1</th>\n",
       "      <td>2042.232432</td>\n",
       "      <td>194.743243</td>\n",
       "      <td>194.0</td>\n",
       "      <td>30025.0</td>\n",
       "      <td>0.0</td>\n",
       "      <td>175.0</td>\n",
       "      <td>2.0</td>\n",
       "      <td>1.020161</td>\n",
       "      <td>0.035503</td>\n",
       "      <td>0.091332</td>\n",
       "      <td>...</td>\n",
       "      <td>1</td>\n",
       "      <td>1</td>\n",
       "      <td>0</td>\n",
       "      <td>1</td>\n",
       "      <td>0</td>\n",
       "      <td>0</td>\n",
       "      <td>0</td>\n",
       "      <td>1</td>\n",
       "      <td>1</td>\n",
       "      <td>0</td>\n",
       "    </tr>\n",
       "    <tr>\n",
       "      <th>2</th>\n",
       "      <td>309.026413</td>\n",
       "      <td>52.495675</td>\n",
       "      <td>34.0</td>\n",
       "      <td>1564.0</td>\n",
       "      <td>0.0</td>\n",
       "      <td>1829.0</td>\n",
       "      <td>3.0</td>\n",
       "      <td>1.020161</td>\n",
       "      <td>0.093246</td>\n",
       "      <td>0.069614</td>\n",
       "      <td>...</td>\n",
       "      <td>1</td>\n",
       "      <td>1</td>\n",
       "      <td>0</td>\n",
       "      <td>1</td>\n",
       "      <td>0</td>\n",
       "      <td>0</td>\n",
       "      <td>0</td>\n",
       "      <td>1</td>\n",
       "      <td>0</td>\n",
       "      <td>1</td>\n",
       "    </tr>\n",
       "    <tr>\n",
       "      <th>3</th>\n",
       "      <td>309.026413</td>\n",
       "      <td>52.495675</td>\n",
       "      <td>25.0</td>\n",
       "      <td>1150.0</td>\n",
       "      <td>0.0</td>\n",
       "      <td>1426.0</td>\n",
       "      <td>3.0</td>\n",
       "      <td>-0.242991</td>\n",
       "      <td>0.152789</td>\n",
       "      <td>-0.015951</td>\n",
       "      <td>...</td>\n",
       "      <td>1</td>\n",
       "      <td>1</td>\n",
       "      <td>0</td>\n",
       "      <td>1</td>\n",
       "      <td>0</td>\n",
       "      <td>0</td>\n",
       "      <td>0</td>\n",
       "      <td>1</td>\n",
       "      <td>0</td>\n",
       "      <td>1</td>\n",
       "    </tr>\n",
       "    <tr>\n",
       "      <th>4</th>\n",
       "      <td>134.348332</td>\n",
       "      <td>39.542281</td>\n",
       "      <td>23.0</td>\n",
       "      <td>1058.0</td>\n",
       "      <td>1.0</td>\n",
       "      <td>1693.0</td>\n",
       "      <td>4.0</td>\n",
       "      <td>-0.504990</td>\n",
       "      <td>0.168392</td>\n",
       "      <td>0.055474</td>\n",
       "      <td>...</td>\n",
       "      <td>1</td>\n",
       "      <td>1</td>\n",
       "      <td>0</td>\n",
       "      <td>1</td>\n",
       "      <td>0</td>\n",
       "      <td>0</td>\n",
       "      <td>0</td>\n",
       "      <td>1</td>\n",
       "      <td>0</td>\n",
       "      <td>1</td>\n",
       "    </tr>\n",
       "  </tbody>\n",
       "</table>\n",
       "<p>5 rows × 40 columns</p>\n",
       "</div>"
      ],
      "text/plain": [
       "      GCD (km)  Flight Time  Frequency  Seats (Total)  Frequency_prev_year  \\\n",
       "0  1872.000000   176.142857       76.0        11412.0                  0.0   \n",
       "1  2042.232432   194.743243      194.0        30025.0                  0.0   \n",
       "2   309.026413    52.495675       34.0         1564.0                  0.0   \n",
       "3   309.026413    52.495675       25.0         1150.0                  0.0   \n",
       "4   134.348332    39.542281       23.0         1058.0                  1.0   \n",
       "\n",
       "   Frequency_prev_year_route  n_airlines_prev_year  pct_change_prev_airline  \\\n",
       "0                        0.0                   0.0                 0.000000   \n",
       "1                      175.0                   2.0                 1.020161   \n",
       "2                     1829.0                   3.0                 1.020161   \n",
       "3                     1426.0                   3.0                -0.242991   \n",
       "4                     1693.0                   4.0                -0.504990   \n",
       "\n",
       "   pct_change_prev_route  pct_change_prev_region     ...      \\\n",
       "0               0.000000                0.131542     ...       \n",
       "1               0.035503                0.091332     ...       \n",
       "2               0.093246                0.069614     ...       \n",
       "3               0.152789               -0.015951     ...       \n",
       "4               0.168392                0.055474     ...       \n",
       "\n",
       "   is_new_route_airline_1  is_new_route_0.0  is_new_route_1.0  \\\n",
       "0                       1                 0                 1   \n",
       "1                       1                 1                 0   \n",
       "2                       1                 1                 0   \n",
       "3                       1                 1                 0   \n",
       "4                       1                 1                 0   \n",
       "\n",
       "   is_new_airline_0  is_new_airline_1  yoychange_-1  yoychange_0 yoychange_1  \\\n",
       "0                 0                 1             0            0           1   \n",
       "1                 1                 0             0            0           1   \n",
       "2                 1                 0             0            0           1   \n",
       "3                 1                 0             0            0           1   \n",
       "4                 1                 0             0            0           1   \n",
       "\n",
       "   Seasonal_0  Seasonal_1  \n",
       "0           1           0  \n",
       "1           1           0  \n",
       "2           0           1  \n",
       "3           0           1  \n",
       "4           0           1  \n",
       "\n",
       "[5 rows x 40 columns]"
      ]
     },
     "execution_count": 17,
     "metadata": {},
     "output_type": "execute_result"
    }
   ],
   "source": [
    "data_clean.head()"
   ]
  },
  {
   "cell_type": "code",
   "execution_count": 18,
   "metadata": {},
   "outputs": [],
   "source": [
    "def min_max(x):\n",
    "    return (x-np.min(x))/(np.max(x)-np.min(x))\n",
    "\n",
    "def normaliser(x):\n",
    "    return (x-np.mean(x))/(np.max(x)-np.min(x))\n",
    "\n",
    "def standardiser(x):\n",
    "    return (x-np.mean(x))/(np.std(x))"
   ]
  },
  {
   "cell_type": "code",
   "execution_count": 19,
   "metadata": {},
   "outputs": [
    {
     "data": {
      "text/plain": [
       "GCD (km)                     float64\n",
       "Flight Time                  float64\n",
       "Frequency                    float64\n",
       "Seats (Total)                float64\n",
       "Frequency_prev_year          float64\n",
       "Frequency_prev_year_route    float64\n",
       "n_airlines_prev_year         float64\n",
       "pct_change_prev_airline      float64\n",
       "pct_change_prev_route        float64\n",
       "pct_change_prev_region       float64\n",
       "pct_change_prev_airport      float64\n",
       "Indirect_Pax_prev_year       float64\n",
       "Dir_Pax_prev_year            float64\n",
       "LF_route_prev_year           float64\n",
       "AvLF_airline_prev_year       float64\n",
       "Dep_GDP                      float64\n",
       "Arr_GDP                      float64\n",
       "Label                         object\n",
       "Mainline/Low Cost_L            uint8\n",
       "Mainline/Low Cost_M            uint8\n",
       "Region_Africa                  uint8\n",
       "Region_Asia                    uint8\n",
       "Region_Domestic                uint8\n",
       "Region_Europe                  uint8\n",
       "Region_Latin America           uint8\n",
       "Region_Middle East             uint8\n",
       "Region_North America           uint8\n",
       "Season_Summer                  uint8\n",
       "Season_Winter                  uint8\n",
       "is_new_route_airline_0         uint8\n",
       "is_new_route_airline_1         uint8\n",
       "is_new_route_0.0               uint8\n",
       "is_new_route_1.0               uint8\n",
       "is_new_airline_0               uint8\n",
       "is_new_airline_1               uint8\n",
       "yoychange_-1                   uint8\n",
       "yoychange_0                    uint8\n",
       "yoychange_1                    uint8\n",
       "Seasonal_0                     uint8\n",
       "Seasonal_1                     uint8\n",
       "dtype: object"
      ]
     },
     "execution_count": 19,
     "metadata": {},
     "output_type": "execute_result"
    }
   ],
   "source": [
    "data_clean.dtypes"
   ]
  },
  {
   "cell_type": "code",
   "execution_count": 20,
   "metadata": {},
   "outputs": [],
   "source": [
    "data_clean_scaled = data_clean.copy()"
   ]
  },
  {
   "cell_type": "code",
   "execution_count": 21,
   "metadata": {},
   "outputs": [],
   "source": [
    "data_clean_scaled[list(data_clean_scaled.loc[:,'GCD (km)':'Arr_GDP'])] = data_clean_scaled[list(data_clean_scaled.loc[:,'GCD (km)':'Arr_GDP'])].apply(lambda x: standardiser(x))"
   ]
  },
  {
   "cell_type": "code",
   "execution_count": 22,
   "metadata": {},
   "outputs": [
    {
     "data": {
      "text/html": [
       "<div>\n",
       "<style scoped>\n",
       "    .dataframe tbody tr th:only-of-type {\n",
       "        vertical-align: middle;\n",
       "    }\n",
       "\n",
       "    .dataframe tbody tr th {\n",
       "        vertical-align: top;\n",
       "    }\n",
       "\n",
       "    .dataframe thead th {\n",
       "        text-align: right;\n",
       "    }\n",
       "</style>\n",
       "<table border=\"1\" class=\"dataframe\">\n",
       "  <thead>\n",
       "    <tr style=\"text-align: right;\">\n",
       "      <th></th>\n",
       "      <th>GCD (km)</th>\n",
       "      <th>Flight Time</th>\n",
       "      <th>Frequency</th>\n",
       "      <th>Seats (Total)</th>\n",
       "      <th>Frequency_prev_year</th>\n",
       "      <th>Frequency_prev_year_route</th>\n",
       "      <th>n_airlines_prev_year</th>\n",
       "      <th>pct_change_prev_airline</th>\n",
       "      <th>pct_change_prev_route</th>\n",
       "      <th>pct_change_prev_region</th>\n",
       "      <th>...</th>\n",
       "      <th>is_new_route_airline_1</th>\n",
       "      <th>is_new_route_0.0</th>\n",
       "      <th>is_new_route_1.0</th>\n",
       "      <th>is_new_airline_0</th>\n",
       "      <th>is_new_airline_1</th>\n",
       "      <th>yoychange_-1</th>\n",
       "      <th>yoychange_0</th>\n",
       "      <th>yoychange_1</th>\n",
       "      <th>Seasonal_0</th>\n",
       "      <th>Seasonal_1</th>\n",
       "    </tr>\n",
       "  </thead>\n",
       "  <tbody>\n",
       "    <tr>\n",
       "      <th>0</th>\n",
       "      <td>0.068646</td>\n",
       "      <td>0.022446</td>\n",
       "      <td>-0.465318</td>\n",
       "      <td>-0.440864</td>\n",
       "      <td>-0.521358</td>\n",
       "      <td>-0.550271</td>\n",
       "      <td>-1.426681</td>\n",
       "      <td>-0.103477</td>\n",
       "      <td>-0.189821</td>\n",
       "      <td>0.386359</td>\n",
       "      <td>...</td>\n",
       "      <td>1</td>\n",
       "      <td>0</td>\n",
       "      <td>1</td>\n",
       "      <td>0</td>\n",
       "      <td>1</td>\n",
       "      <td>0</td>\n",
       "      <td>0</td>\n",
       "      <td>1</td>\n",
       "      <td>1</td>\n",
       "      <td>0</td>\n",
       "    </tr>\n",
       "    <tr>\n",
       "      <th>1</th>\n",
       "      <td>0.164369</td>\n",
       "      <td>0.159616</td>\n",
       "      <td>-0.134425</td>\n",
       "      <td>-0.120166</td>\n",
       "      <td>-0.521358</td>\n",
       "      <td>-0.373859</td>\n",
       "      <td>0.183143</td>\n",
       "      <td>0.183606</td>\n",
       "      <td>-0.110818</td>\n",
       "      <td>0.215460</td>\n",
       "      <td>...</td>\n",
       "      <td>1</td>\n",
       "      <td>1</td>\n",
       "      <td>0</td>\n",
       "      <td>1</td>\n",
       "      <td>0</td>\n",
       "      <td>0</td>\n",
       "      <td>0</td>\n",
       "      <td>1</td>\n",
       "      <td>1</td>\n",
       "      <td>0</td>\n",
       "    </tr>\n",
       "    <tr>\n",
       "      <th>2</th>\n",
       "      <td>-0.810226</td>\n",
       "      <td>-0.889402</td>\n",
       "      <td>-0.583094</td>\n",
       "      <td>-0.610543</td>\n",
       "      <td>-0.521358</td>\n",
       "      <td>1.293482</td>\n",
       "      <td>0.988055</td>\n",
       "      <td>0.183606</td>\n",
       "      <td>0.017674</td>\n",
       "      <td>0.123153</td>\n",
       "      <td>...</td>\n",
       "      <td>1</td>\n",
       "      <td>1</td>\n",
       "      <td>0</td>\n",
       "      <td>1</td>\n",
       "      <td>0</td>\n",
       "      <td>0</td>\n",
       "      <td>0</td>\n",
       "      <td>1</td>\n",
       "      <td>0</td>\n",
       "      <td>1</td>\n",
       "    </tr>\n",
       "    <tr>\n",
       "      <th>3</th>\n",
       "      <td>-0.810226</td>\n",
       "      <td>-0.889402</td>\n",
       "      <td>-0.608331</td>\n",
       "      <td>-0.617676</td>\n",
       "      <td>-0.521358</td>\n",
       "      <td>0.887231</td>\n",
       "      <td>0.988055</td>\n",
       "      <td>-0.171857</td>\n",
       "      <td>0.150174</td>\n",
       "      <td>-0.240517</td>\n",
       "      <td>...</td>\n",
       "      <td>1</td>\n",
       "      <td>1</td>\n",
       "      <td>0</td>\n",
       "      <td>1</td>\n",
       "      <td>0</td>\n",
       "      <td>0</td>\n",
       "      <td>0</td>\n",
       "      <td>1</td>\n",
       "      <td>0</td>\n",
       "      <td>1</td>\n",
       "    </tr>\n",
       "    <tr>\n",
       "      <th>4</th>\n",
       "      <td>-0.908449</td>\n",
       "      <td>-0.984928</td>\n",
       "      <td>-0.613940</td>\n",
       "      <td>-0.619261</td>\n",
       "      <td>-0.518618</td>\n",
       "      <td>1.156385</td>\n",
       "      <td>1.792967</td>\n",
       "      <td>-0.245586</td>\n",
       "      <td>0.184894</td>\n",
       "      <td>0.063055</td>\n",
       "      <td>...</td>\n",
       "      <td>1</td>\n",
       "      <td>1</td>\n",
       "      <td>0</td>\n",
       "      <td>1</td>\n",
       "      <td>0</td>\n",
       "      <td>0</td>\n",
       "      <td>0</td>\n",
       "      <td>1</td>\n",
       "      <td>0</td>\n",
       "      <td>1</td>\n",
       "    </tr>\n",
       "  </tbody>\n",
       "</table>\n",
       "<p>5 rows × 40 columns</p>\n",
       "</div>"
      ],
      "text/plain": [
       "   GCD (km)  Flight Time  Frequency  Seats (Total)  Frequency_prev_year  \\\n",
       "0  0.068646     0.022446  -0.465318      -0.440864            -0.521358   \n",
       "1  0.164369     0.159616  -0.134425      -0.120166            -0.521358   \n",
       "2 -0.810226    -0.889402  -0.583094      -0.610543            -0.521358   \n",
       "3 -0.810226    -0.889402  -0.608331      -0.617676            -0.521358   \n",
       "4 -0.908449    -0.984928  -0.613940      -0.619261            -0.518618   \n",
       "\n",
       "   Frequency_prev_year_route  n_airlines_prev_year  pct_change_prev_airline  \\\n",
       "0                  -0.550271             -1.426681                -0.103477   \n",
       "1                  -0.373859              0.183143                 0.183606   \n",
       "2                   1.293482              0.988055                 0.183606   \n",
       "3                   0.887231              0.988055                -0.171857   \n",
       "4                   1.156385              1.792967                -0.245586   \n",
       "\n",
       "   pct_change_prev_route  pct_change_prev_region     ...      \\\n",
       "0              -0.189821                0.386359     ...       \n",
       "1              -0.110818                0.215460     ...       \n",
       "2               0.017674                0.123153     ...       \n",
       "3               0.150174               -0.240517     ...       \n",
       "4               0.184894                0.063055     ...       \n",
       "\n",
       "   is_new_route_airline_1  is_new_route_0.0  is_new_route_1.0  \\\n",
       "0                       1                 0                 1   \n",
       "1                       1                 1                 0   \n",
       "2                       1                 1                 0   \n",
       "3                       1                 1                 0   \n",
       "4                       1                 1                 0   \n",
       "\n",
       "   is_new_airline_0  is_new_airline_1  yoychange_-1  yoychange_0 yoychange_1  \\\n",
       "0                 0                 1             0            0           1   \n",
       "1                 1                 0             0            0           1   \n",
       "2                 1                 0             0            0           1   \n",
       "3                 1                 0             0            0           1   \n",
       "4                 1                 0             0            0           1   \n",
       "\n",
       "   Seasonal_0  Seasonal_1  \n",
       "0           1           0  \n",
       "1           1           0  \n",
       "2           0           1  \n",
       "3           0           1  \n",
       "4           0           1  \n",
       "\n",
       "[5 rows x 40 columns]"
      ]
     },
     "execution_count": 22,
     "metadata": {},
     "output_type": "execute_result"
    }
   ],
   "source": [
    "data_clean_scaled.head()"
   ]
  },
  {
   "cell_type": "code",
   "execution_count": 23,
   "metadata": {},
   "outputs": [],
   "source": [
    "data_prediction = data_clean_scaled[data_clean_scaled['Label'].isin(['New route','Negative'])]\n",
    "labels = data_prediction['Label']\n",
    "data_prediction = data_prediction.drop(['Label'],axis=1)"
   ]
  },
  {
   "cell_type": "code",
   "execution_count": 24,
   "metadata": {},
   "outputs": [
    {
     "data": {
      "text/plain": [
       "array(['Negative', 'Negative', 'New route', ..., 'Negative', 'Negative',\n",
       "       'Negative'], dtype=object)"
      ]
     },
     "execution_count": 24,
     "metadata": {},
     "output_type": "execute_result"
    }
   ],
   "source": [
    "labels.values"
   ]
  },
  {
   "cell_type": "code",
   "execution_count": 25,
   "metadata": {},
   "outputs": [],
   "source": [
    "from sklearn.model_selection import train_test_split\n",
    "\n",
    "# split dataset into training and test subsets\n",
    "x_train, x_test, y_train, y_test = train_test_split(data_prediction, labels, \n",
    "                                                    test_size=0.25, random_state=42)"
   ]
  },
  {
   "cell_type": "code",
   "execution_count": 26,
   "metadata": {},
   "outputs": [],
   "source": [
    "# import warnings filter\n",
    "from warnings import simplefilter\n",
    "# ignore all future warnings\n",
    "simplefilter(action='ignore', category=FutureWarning)"
   ]
  },
  {
   "cell_type": "code",
   "execution_count": 27,
   "metadata": {},
   "outputs": [
    {
     "name": "stdout",
     "output_type": "stream",
     "text": [
      "Performance of logistic regression model on test dataset:\n",
      "F-score = 56.19%\n",
      "Recall = 54.16%\n",
      "Accuracy = 77.87%\n"
     ]
    }
   ],
   "source": [
    "from sklearn.model_selection import train_test_split\n",
    "from sklearn.linear_model import LogisticRegression\n",
    "from sklearn.metrics import fbeta_score, recall_score, accuracy_score\n",
    "\n",
    "# define logistic regression model\n",
    "model = LogisticRegression(random_state=42)\n",
    "\n",
    "# fit the model using the training data\n",
    "model = model.fit(x_train, y_train)\n",
    "    \n",
    "# make prediction on test set\n",
    "y_logistic = model.predict(x_test)\n",
    "\n",
    "# calculate performance metrics\n",
    "score = fbeta_score(y_test, y_logistic, beta=2, pos_label='New route')\n",
    "recall = recall_score(y_test,y_logistic, pos_label='New route')   \n",
    "accuracy = accuracy_score(y_test,y_logistic)\n",
    "\n",
    "print('Performance of logistic regression model on test dataset:')\n",
    "print('F-score = {:.2f}%'.format(score*100))\n",
    "print('Recall = {:.2f}%'.format(recall*100))\n",
    "print('Accuracy = {:.2f}%'.format(accuracy*100))"
   ]
  },
  {
   "cell_type": "code",
   "execution_count": 28,
   "metadata": {},
   "outputs": [
    {
     "data": {
      "text/plain": [
       "0.30622204148027654"
      ]
     },
     "execution_count": 28,
     "metadata": {},
     "output_type": "execute_result"
    }
   ],
   "source": [
    "len(y_train[y_train=='New route'])/len(y_train)"
   ]
  },
  {
   "cell_type": "code",
   "execution_count": 29,
   "metadata": {},
   "outputs": [],
   "source": [
    "# Algorithm spot-check\n",
    "from sklearn.metrics import fbeta_score, recall_score, accuracy_score\n",
    "from sklearn.model_selection import train_test_split\n",
    "\n",
    "def predictor(classifier, X, y, test_size=0.25, beta=2):\n",
    "    \n",
    "    # split dataset into training and test subsets\n",
    "    x_train, x_test, y_train, y_test = train_test_split(X, y, test_size=test_size, random_state=42)\n",
    "    \n",
    "    # fit the model using the training data\n",
    "    model = classifier.fit(x_train, y_train)\n",
    "    \n",
    "    # make prediction on first 500 samples of training set\n",
    "    y_pred_train = model.predict(x_train[:500])\n",
    "    \n",
    "    # make prediction on test set\n",
    "    y_pred_test = model.predict(x_test)\n",
    "    \n",
    "    # calculate f-score, recall and accuracy on training and test set\n",
    "    score_train = fbeta_score(y_train[:500], y_pred_train, beta, pos_label='New route')\n",
    "    score_test = fbeta_score(y_test, y_pred_test, beta, pos_label='New route')\n",
    "    \n",
    "    recall_train = recall_score(y_train[:500],y_pred_train, pos_label='New route')\n",
    "    recall_test = recall_score(y_test,y_pred_test, pos_label='New route')\n",
    "    \n",
    "    accuracy_train = accuracy_score(y_train[:500],y_pred_train)\n",
    "    accuracy_test = accuracy_score(y_test,y_pred_test)\n",
    "    \n",
    "    fscore = [score_train,score_test]\n",
    "    recall = [recall_train,recall_test]\n",
    "    accuracy = [accuracy_train,accuracy_test]\n",
    "        \n",
    "    return fscore, recall, accuracy, y_pred_test, y_pred_train"
   ]
  },
  {
   "cell_type": "code",
   "execution_count": 30,
   "metadata": {},
   "outputs": [],
   "source": [
    "from sklearn.linear_model import LogisticRegression\n",
    "from sklearn.tree import DecisionTreeClassifier\n",
    "from sklearn.svm import SVC\n",
    "from sklearn.naive_bayes import GaussianNB\n",
    "from sklearn.ensemble import AdaBoostClassifier, GradientBoostingClassifier, BaggingClassifier, RandomForestClassifier\n",
    "\n",
    "# Dictionary containing all classification models to be tested\n",
    "models = dict()\n",
    "\n",
    "models['Logistic'] = LogisticRegression(random_state=42)\n",
    "models['Decision Tree'] = DecisionTreeClassifier(random_state=42)\n",
    "models['Linear SVM'] = SVC(kernel='linear', random_state=42)\n",
    "models['Cubic SVM'] = SVC(kernel='poly', random_state=42)\n",
    "for c in np.arange(0.1, 1.1, 0.1):\n",
    "    models['RBF SVM (C = '+str(c)+')'] = SVC(C=c, random_state=42)\n",
    "models['Naive Bayes'] = GaussianNB()\n",
    "models['Bagging'] = BaggingClassifier(n_estimators=50 ,random_state=42)\n",
    "models['Random Forest'] = RandomForestClassifier(n_estimators=50, random_state=42)\n",
    "models['Gradient Boosting'] = GradientBoostingClassifier(n_estimators=50 ,random_state=42)\n",
    "models['AdaBoost'] = AdaBoostClassifier(n_estimators=50 ,random_state=42)"
   ]
  },
  {
   "cell_type": "code",
   "execution_count": 31,
   "metadata": {
    "scrolled": true
   },
   "outputs": [
    {
     "name": "stdout",
     "output_type": "stream",
     "text": [
      "Logistic\n",
      "\n",
      "Training set\n",
      "F-score = 61.71%\n",
      "Recall = 60.27%\n",
      "Accuracy = 80.20%\n",
      "\n",
      "Test set\n",
      "F-score = 56.19%\n",
      "Recall = 54.16%\n",
      "Accuracy = 77.87%\n",
      "----------------------------------------------\n",
      "Decision Tree\n",
      "\n",
      "Training set\n",
      "F-score = 100.00%\n",
      "Recall = 100.00%\n",
      "Accuracy = 100.00%\n",
      "\n",
      "Test set\n",
      "F-score = 70.02%\n",
      "Recall = 70.59%\n",
      "Accuracy = 81.10%\n",
      "----------------------------------------------\n",
      "Linear SVM\n",
      "\n",
      "Training set\n",
      "F-score = 64.07%\n",
      "Recall = 63.01%\n",
      "Accuracy = 80.80%\n",
      "\n",
      "Test set\n",
      "F-score = 59.01%\n",
      "Recall = 57.40%\n",
      "Accuracy = 78.48%\n",
      "----------------------------------------------\n",
      "Cubic SVM\n",
      "\n",
      "Training set\n",
      "F-score = 49.02%\n",
      "Recall = 44.52%\n",
      "Accuracy = 81.00%\n",
      "\n",
      "Test set\n",
      "F-score = 44.82%\n",
      "Recall = 40.57%\n",
      "Accuracy = 78.54%\n",
      "----------------------------------------------\n",
      "RBF SVM (C = 0.1)\n",
      "\n",
      "Training set\n",
      "F-score = 37.04%\n",
      "Recall = 32.88%\n",
      "Accuracy = 77.20%\n",
      "\n",
      "Test set\n",
      "F-score = 38.51%\n",
      "Recall = 34.48%\n",
      "Accuracy = 76.34%\n",
      "----------------------------------------------\n",
      "RBF SVM (C = 0.2)\n",
      "\n",
      "Training set\n",
      "F-score = 50.96%\n",
      "Recall = 47.26%\n",
      "Accuracy = 79.80%\n",
      "\n",
      "Test set\n",
      "F-score = 51.76%\n",
      "Recall = 48.28%\n",
      "Accuracy = 79.02%\n",
      "----------------------------------------------\n",
      "RBF SVM (C = 0.30000000000000004)\n",
      "\n",
      "Training set\n",
      "F-score = 60.26%\n",
      "Recall = 57.53%\n",
      "Accuracy = 81.80%\n",
      "\n",
      "Test set\n",
      "F-score = 54.48%\n",
      "Recall = 51.32%\n",
      "Accuracy = 79.45%\n",
      "----------------------------------------------\n",
      "RBF SVM (C = 0.4)\n",
      "\n",
      "Training set\n",
      "F-score = 62.05%\n",
      "Recall = 59.59%\n",
      "Accuracy = 82.20%\n",
      "\n",
      "Test set\n",
      "F-score = 55.75%\n",
      "Recall = 52.74%\n",
      "Accuracy = 79.70%\n",
      "----------------------------------------------\n",
      "RBF SVM (C = 0.5)\n",
      "\n",
      "Training set\n",
      "F-score = 62.68%\n",
      "Recall = 60.27%\n",
      "Accuracy = 82.40%\n",
      "\n",
      "Test set\n",
      "F-score = 56.65%\n",
      "Recall = 53.75%\n",
      "Accuracy = 79.88%\n",
      "----------------------------------------------\n",
      "RBF SVM (C = 0.6)\n",
      "\n",
      "Training set\n",
      "F-score = 63.30%\n",
      "Recall = 60.96%\n",
      "Accuracy = 82.60%\n",
      "\n",
      "Test set\n",
      "F-score = 58.09%\n",
      "Recall = 55.38%\n",
      "Accuracy = 80.18%\n",
      "----------------------------------------------\n",
      "RBF SVM (C = 0.7000000000000001)\n",
      "\n",
      "Training set\n",
      "F-score = 64.45%\n",
      "Recall = 62.33%\n",
      "Accuracy = 82.80%\n",
      "\n",
      "Test set\n",
      "F-score = 59.19%\n",
      "Recall = 56.59%\n",
      "Accuracy = 80.49%\n",
      "----------------------------------------------\n",
      "RBF SVM (C = 0.8)\n",
      "\n",
      "Training set\n",
      "F-score = 64.45%\n",
      "Recall = 62.33%\n",
      "Accuracy = 82.80%\n",
      "\n",
      "Test set\n",
      "F-score = 60.23%\n",
      "Recall = 57.81%\n",
      "Accuracy = 80.67%\n",
      "----------------------------------------------\n",
      "RBF SVM (C = 0.9)\n",
      "\n",
      "Training set\n",
      "F-score = 65.06%\n",
      "Recall = 63.01%\n",
      "Accuracy = 83.00%\n",
      "\n",
      "Test set\n",
      "F-score = 60.55%\n",
      "Recall = 58.22%\n",
      "Accuracy = 80.67%\n",
      "----------------------------------------------\n",
      "RBF SVM (C = 1.0)\n",
      "\n",
      "Training set\n",
      "F-score = 66.20%\n",
      "Recall = 64.38%\n",
      "Accuracy = 83.20%\n",
      "\n",
      "Test set\n",
      "F-score = 60.84%\n",
      "Recall = 58.62%\n",
      "Accuracy = 80.61%\n",
      "----------------------------------------------\n",
      "Naive Bayes\n",
      "\n",
      "Training set\n",
      "F-score = 47.51%\n",
      "Recall = 44.52%\n",
      "Accuracy = 76.80%\n",
      "\n",
      "Test set\n",
      "F-score = 47.93%\n",
      "Recall = 44.62%\n",
      "Accuracy = 77.07%\n",
      "----------------------------------------------\n",
      "Bagging\n",
      "\n",
      "Training set\n",
      "F-score = 100.00%\n",
      "Recall = 100.00%\n",
      "Accuracy = 100.00%\n",
      "\n",
      "Test set\n",
      "F-score = 77.03%\n",
      "Recall = 76.88%\n",
      "Accuracy = 86.40%\n",
      "----------------------------------------------\n",
      "Random Forest\n",
      "\n",
      "Training set\n",
      "F-score = 100.00%\n",
      "Recall = 100.00%\n",
      "Accuracy = 100.00%\n",
      "\n",
      "Test set\n",
      "F-score = 76.12%\n",
      "Recall = 75.25%\n",
      "Accuracy = 86.83%\n",
      "----------------------------------------------\n",
      "Gradient Boosting\n",
      "\n",
      "Training set\n",
      "F-score = 75.31%\n",
      "Recall = 73.97%\n",
      "Accuracy = 87.40%\n",
      "\n",
      "Test set\n",
      "F-score = 71.55%\n",
      "Recall = 69.78%\n",
      "Accuracy = 85.55%\n",
      "----------------------------------------------\n",
      "AdaBoost\n",
      "\n",
      "Training set\n",
      "F-score = 71.53%\n",
      "Recall = 69.86%\n",
      "Accuracy = 85.80%\n",
      "\n",
      "Test set\n",
      "F-score = 66.98%\n",
      "Recall = 65.52%\n",
      "Accuracy = 82.56%\n",
      "----------------------------------------------\n"
     ]
    }
   ],
   "source": [
    "scores = []\n",
    "recalls = []\n",
    "accuracies = []\n",
    "\n",
    "for model in models:\n",
    "    \n",
    "    score, recall, accuracy, y_pred_test, y_pred_train = predictor(models[model], data_prediction, labels)\n",
    "    \n",
    "    scores.append(score[1])\n",
    "    recalls.append(recall[1])\n",
    "    accuracies.append(recall[1])\n",
    "    \n",
    "    print(model)\n",
    "    print('\\nTraining set')\n",
    "    print('F-score = {:.2f}%'.format(score[0]*100))\n",
    "    print('Recall = {:.2f}%'.format(recall[0]*100))\n",
    "    print('Accuracy = {:.2f}%'.format(accuracy[0]*100))\n",
    "    print('\\nTest set')\n",
    "    print('F-score = {:.2f}%'.format(score[1]*100))\n",
    "    print('Recall = {:.2f}%'.format(recall[1]*100))\n",
    "    print('Accuracy = {:.2f}%'.format(accuracy[1]*100))\n",
    "    print('----------------------------------------------')"
   ]
  },
  {
   "cell_type": "code",
   "execution_count": 32,
   "metadata": {},
   "outputs": [
    {
     "name": "stdout",
     "output_type": "stream",
     "text": [
      "Best model (highest recall): Bagging\n",
      "Recall = 76.88%\n"
     ]
    }
   ],
   "source": [
    "print('Best model (highest recall): {}'.format(list(models.keys())[recalls.index(max(recalls))]))\n",
    "print('Recall = {:.2f}%'.format(max(recalls)*100))"
   ]
  },
  {
   "cell_type": "code",
   "execution_count": 45,
   "metadata": {},
   "outputs": [
    {
     "name": "stdout",
     "output_type": "stream",
     "text": [
      "Fitting 5 folds for each of 35 candidates, totalling 175 fits\n"
     ]
    },
    {
     "name": "stderr",
     "output_type": "stream",
     "text": [
      "[Parallel(n_jobs=-1)]: Using backend LokyBackend with 4 concurrent workers.\n",
      "[Parallel(n_jobs=-1)]: Done  10 tasks      | elapsed:    5.2s\n"
     ]
    },
    {
     "ename": "KeyboardInterrupt",
     "evalue": "",
     "output_type": "error",
     "traceback": [
      "\u001b[1;31m---------------------------------------------------------------------------\u001b[0m",
      "\u001b[1;31mKeyboardInterrupt\u001b[0m                         Traceback (most recent call last)",
      "\u001b[1;32m<ipython-input-45-90a6ccb68734>\u001b[0m in \u001b[0;36m<module>\u001b[1;34m\u001b[0m\n\u001b[0;32m     20\u001b[0m \u001b[1;33m\u001b[0m\u001b[0m\n\u001b[0;32m     21\u001b[0m \u001b[1;31m# Fit the grid search object to the training data and find the optimal parameters\u001b[0m\u001b[1;33m\u001b[0m\u001b[1;33m\u001b[0m\u001b[1;33m\u001b[0m\u001b[0m\n\u001b[1;32m---> 22\u001b[1;33m \u001b[0mgrid_fit\u001b[0m \u001b[1;33m=\u001b[0m \u001b[0mgrid\u001b[0m\u001b[1;33m.\u001b[0m\u001b[0mfit\u001b[0m\u001b[1;33m(\u001b[0m\u001b[0mx_train\u001b[0m\u001b[1;33m,\u001b[0m\u001b[0my_train\u001b[0m\u001b[1;33m)\u001b[0m\u001b[1;33m\u001b[0m\u001b[1;33m\u001b[0m\u001b[0m\n\u001b[0m\u001b[0;32m     23\u001b[0m \u001b[1;33m\u001b[0m\u001b[0m\n\u001b[0;32m     24\u001b[0m \u001b[1;31m# Get the optimised estimator\u001b[0m\u001b[1;33m\u001b[0m\u001b[1;33m\u001b[0m\u001b[1;33m\u001b[0m\u001b[0m\n",
      "\u001b[1;32m~\\Anaconda3\\lib\\site-packages\\sklearn\\model_selection\\_search.py\u001b[0m in \u001b[0;36mfit\u001b[1;34m(self, X, y, groups, **fit_params)\u001b[0m\n\u001b[0;32m    720\u001b[0m                 \u001b[1;32mreturn\u001b[0m \u001b[0mresults_container\u001b[0m\u001b[1;33m[\u001b[0m\u001b[1;36m0\u001b[0m\u001b[1;33m]\u001b[0m\u001b[1;33m\u001b[0m\u001b[1;33m\u001b[0m\u001b[0m\n\u001b[0;32m    721\u001b[0m \u001b[1;33m\u001b[0m\u001b[0m\n\u001b[1;32m--> 722\u001b[1;33m             \u001b[0mself\u001b[0m\u001b[1;33m.\u001b[0m\u001b[0m_run_search\u001b[0m\u001b[1;33m(\u001b[0m\u001b[0mevaluate_candidates\u001b[0m\u001b[1;33m)\u001b[0m\u001b[1;33m\u001b[0m\u001b[1;33m\u001b[0m\u001b[0m\n\u001b[0m\u001b[0;32m    723\u001b[0m \u001b[1;33m\u001b[0m\u001b[0m\n\u001b[0;32m    724\u001b[0m         \u001b[0mresults\u001b[0m \u001b[1;33m=\u001b[0m \u001b[0mresults_container\u001b[0m\u001b[1;33m[\u001b[0m\u001b[1;36m0\u001b[0m\u001b[1;33m]\u001b[0m\u001b[1;33m\u001b[0m\u001b[1;33m\u001b[0m\u001b[0m\n",
      "\u001b[1;32m~\\Anaconda3\\lib\\site-packages\\sklearn\\model_selection\\_search.py\u001b[0m in \u001b[0;36m_run_search\u001b[1;34m(self, evaluate_candidates)\u001b[0m\n\u001b[0;32m   1189\u001b[0m     \u001b[1;32mdef\u001b[0m \u001b[0m_run_search\u001b[0m\u001b[1;33m(\u001b[0m\u001b[0mself\u001b[0m\u001b[1;33m,\u001b[0m \u001b[0mevaluate_candidates\u001b[0m\u001b[1;33m)\u001b[0m\u001b[1;33m:\u001b[0m\u001b[1;33m\u001b[0m\u001b[1;33m\u001b[0m\u001b[0m\n\u001b[0;32m   1190\u001b[0m         \u001b[1;34m\"\"\"Search all candidates in param_grid\"\"\"\u001b[0m\u001b[1;33m\u001b[0m\u001b[1;33m\u001b[0m\u001b[0m\n\u001b[1;32m-> 1191\u001b[1;33m         \u001b[0mevaluate_candidates\u001b[0m\u001b[1;33m(\u001b[0m\u001b[0mParameterGrid\u001b[0m\u001b[1;33m(\u001b[0m\u001b[0mself\u001b[0m\u001b[1;33m.\u001b[0m\u001b[0mparam_grid\u001b[0m\u001b[1;33m)\u001b[0m\u001b[1;33m)\u001b[0m\u001b[1;33m\u001b[0m\u001b[1;33m\u001b[0m\u001b[0m\n\u001b[0m\u001b[0;32m   1192\u001b[0m \u001b[1;33m\u001b[0m\u001b[0m\n\u001b[0;32m   1193\u001b[0m \u001b[1;33m\u001b[0m\u001b[0m\n",
      "\u001b[1;32m~\\Anaconda3\\lib\\site-packages\\sklearn\\model_selection\\_search.py\u001b[0m in \u001b[0;36mevaluate_candidates\u001b[1;34m(candidate_params)\u001b[0m\n\u001b[0;32m    709\u001b[0m                                \u001b[1;32mfor\u001b[0m \u001b[0mparameters\u001b[0m\u001b[1;33m,\u001b[0m \u001b[1;33m(\u001b[0m\u001b[0mtrain\u001b[0m\u001b[1;33m,\u001b[0m \u001b[0mtest\u001b[0m\u001b[1;33m)\u001b[0m\u001b[1;33m\u001b[0m\u001b[1;33m\u001b[0m\u001b[0m\n\u001b[0;32m    710\u001b[0m                                in product(candidate_params,\n\u001b[1;32m--> 711\u001b[1;33m                                           cv.split(X, y, groups)))\n\u001b[0m\u001b[0;32m    712\u001b[0m \u001b[1;33m\u001b[0m\u001b[0m\n\u001b[0;32m    713\u001b[0m                 \u001b[0mall_candidate_params\u001b[0m\u001b[1;33m.\u001b[0m\u001b[0mextend\u001b[0m\u001b[1;33m(\u001b[0m\u001b[0mcandidate_params\u001b[0m\u001b[1;33m)\u001b[0m\u001b[1;33m\u001b[0m\u001b[1;33m\u001b[0m\u001b[0m\n",
      "\u001b[1;32m~\\Anaconda3\\lib\\site-packages\\sklearn\\externals\\joblib\\parallel.py\u001b[0m in \u001b[0;36m__call__\u001b[1;34m(self, iterable)\u001b[0m\n\u001b[0;32m    928\u001b[0m \u001b[1;33m\u001b[0m\u001b[0m\n\u001b[0;32m    929\u001b[0m             \u001b[1;32mwith\u001b[0m \u001b[0mself\u001b[0m\u001b[1;33m.\u001b[0m\u001b[0m_backend\u001b[0m\u001b[1;33m.\u001b[0m\u001b[0mretrieval_context\u001b[0m\u001b[1;33m(\u001b[0m\u001b[1;33m)\u001b[0m\u001b[1;33m:\u001b[0m\u001b[1;33m\u001b[0m\u001b[1;33m\u001b[0m\u001b[0m\n\u001b[1;32m--> 930\u001b[1;33m                 \u001b[0mself\u001b[0m\u001b[1;33m.\u001b[0m\u001b[0mretrieve\u001b[0m\u001b[1;33m(\u001b[0m\u001b[1;33m)\u001b[0m\u001b[1;33m\u001b[0m\u001b[1;33m\u001b[0m\u001b[0m\n\u001b[0m\u001b[0;32m    931\u001b[0m             \u001b[1;31m# Make sure that we get a last message telling us we are done\u001b[0m\u001b[1;33m\u001b[0m\u001b[1;33m\u001b[0m\u001b[1;33m\u001b[0m\u001b[0m\n\u001b[0;32m    932\u001b[0m             \u001b[0melapsed_time\u001b[0m \u001b[1;33m=\u001b[0m \u001b[0mtime\u001b[0m\u001b[1;33m.\u001b[0m\u001b[0mtime\u001b[0m\u001b[1;33m(\u001b[0m\u001b[1;33m)\u001b[0m \u001b[1;33m-\u001b[0m \u001b[0mself\u001b[0m\u001b[1;33m.\u001b[0m\u001b[0m_start_time\u001b[0m\u001b[1;33m\u001b[0m\u001b[1;33m\u001b[0m\u001b[0m\n",
      "\u001b[1;32m~\\Anaconda3\\lib\\site-packages\\sklearn\\externals\\joblib\\parallel.py\u001b[0m in \u001b[0;36mretrieve\u001b[1;34m(self)\u001b[0m\n\u001b[0;32m    831\u001b[0m             \u001b[1;32mtry\u001b[0m\u001b[1;33m:\u001b[0m\u001b[1;33m\u001b[0m\u001b[1;33m\u001b[0m\u001b[0m\n\u001b[0;32m    832\u001b[0m                 \u001b[1;32mif\u001b[0m \u001b[0mgetattr\u001b[0m\u001b[1;33m(\u001b[0m\u001b[0mself\u001b[0m\u001b[1;33m.\u001b[0m\u001b[0m_backend\u001b[0m\u001b[1;33m,\u001b[0m \u001b[1;34m'supports_timeout'\u001b[0m\u001b[1;33m,\u001b[0m \u001b[1;32mFalse\u001b[0m\u001b[1;33m)\u001b[0m\u001b[1;33m:\u001b[0m\u001b[1;33m\u001b[0m\u001b[1;33m\u001b[0m\u001b[0m\n\u001b[1;32m--> 833\u001b[1;33m                     \u001b[0mself\u001b[0m\u001b[1;33m.\u001b[0m\u001b[0m_output\u001b[0m\u001b[1;33m.\u001b[0m\u001b[0mextend\u001b[0m\u001b[1;33m(\u001b[0m\u001b[0mjob\u001b[0m\u001b[1;33m.\u001b[0m\u001b[0mget\u001b[0m\u001b[1;33m(\u001b[0m\u001b[0mtimeout\u001b[0m\u001b[1;33m=\u001b[0m\u001b[0mself\u001b[0m\u001b[1;33m.\u001b[0m\u001b[0mtimeout\u001b[0m\u001b[1;33m)\u001b[0m\u001b[1;33m)\u001b[0m\u001b[1;33m\u001b[0m\u001b[1;33m\u001b[0m\u001b[0m\n\u001b[0m\u001b[0;32m    834\u001b[0m                 \u001b[1;32melse\u001b[0m\u001b[1;33m:\u001b[0m\u001b[1;33m\u001b[0m\u001b[1;33m\u001b[0m\u001b[0m\n\u001b[0;32m    835\u001b[0m                     \u001b[0mself\u001b[0m\u001b[1;33m.\u001b[0m\u001b[0m_output\u001b[0m\u001b[1;33m.\u001b[0m\u001b[0mextend\u001b[0m\u001b[1;33m(\u001b[0m\u001b[0mjob\u001b[0m\u001b[1;33m.\u001b[0m\u001b[0mget\u001b[0m\u001b[1;33m(\u001b[0m\u001b[1;33m)\u001b[0m\u001b[1;33m)\u001b[0m\u001b[1;33m\u001b[0m\u001b[1;33m\u001b[0m\u001b[0m\n",
      "\u001b[1;32m~\\Anaconda3\\lib\\site-packages\\sklearn\\externals\\joblib\\_parallel_backends.py\u001b[0m in \u001b[0;36mwrap_future_result\u001b[1;34m(future, timeout)\u001b[0m\n\u001b[0;32m    519\u001b[0m         AsyncResults.get from multiprocessing.\"\"\"\n\u001b[0;32m    520\u001b[0m         \u001b[1;32mtry\u001b[0m\u001b[1;33m:\u001b[0m\u001b[1;33m\u001b[0m\u001b[1;33m\u001b[0m\u001b[0m\n\u001b[1;32m--> 521\u001b[1;33m             \u001b[1;32mreturn\u001b[0m \u001b[0mfuture\u001b[0m\u001b[1;33m.\u001b[0m\u001b[0mresult\u001b[0m\u001b[1;33m(\u001b[0m\u001b[0mtimeout\u001b[0m\u001b[1;33m=\u001b[0m\u001b[0mtimeout\u001b[0m\u001b[1;33m)\u001b[0m\u001b[1;33m\u001b[0m\u001b[1;33m\u001b[0m\u001b[0m\n\u001b[0m\u001b[0;32m    522\u001b[0m         \u001b[1;32mexcept\u001b[0m \u001b[0mLokyTimeoutError\u001b[0m\u001b[1;33m:\u001b[0m\u001b[1;33m\u001b[0m\u001b[1;33m\u001b[0m\u001b[0m\n\u001b[0;32m    523\u001b[0m             \u001b[1;32mraise\u001b[0m \u001b[0mTimeoutError\u001b[0m\u001b[1;33m(\u001b[0m\u001b[1;33m)\u001b[0m\u001b[1;33m\u001b[0m\u001b[1;33m\u001b[0m\u001b[0m\n",
      "\u001b[1;32m~\\Anaconda3\\lib\\concurrent\\futures\\_base.py\u001b[0m in \u001b[0;36mresult\u001b[1;34m(self, timeout)\u001b[0m\n\u001b[0;32m    425\u001b[0m                 \u001b[1;32mreturn\u001b[0m \u001b[0mself\u001b[0m\u001b[1;33m.\u001b[0m\u001b[0m__get_result\u001b[0m\u001b[1;33m(\u001b[0m\u001b[1;33m)\u001b[0m\u001b[1;33m\u001b[0m\u001b[1;33m\u001b[0m\u001b[0m\n\u001b[0;32m    426\u001b[0m \u001b[1;33m\u001b[0m\u001b[0m\n\u001b[1;32m--> 427\u001b[1;33m             \u001b[0mself\u001b[0m\u001b[1;33m.\u001b[0m\u001b[0m_condition\u001b[0m\u001b[1;33m.\u001b[0m\u001b[0mwait\u001b[0m\u001b[1;33m(\u001b[0m\u001b[0mtimeout\u001b[0m\u001b[1;33m)\u001b[0m\u001b[1;33m\u001b[0m\u001b[1;33m\u001b[0m\u001b[0m\n\u001b[0m\u001b[0;32m    428\u001b[0m \u001b[1;33m\u001b[0m\u001b[0m\n\u001b[0;32m    429\u001b[0m             \u001b[1;32mif\u001b[0m \u001b[0mself\u001b[0m\u001b[1;33m.\u001b[0m\u001b[0m_state\u001b[0m \u001b[1;32min\u001b[0m \u001b[1;33m[\u001b[0m\u001b[0mCANCELLED\u001b[0m\u001b[1;33m,\u001b[0m \u001b[0mCANCELLED_AND_NOTIFIED\u001b[0m\u001b[1;33m]\u001b[0m\u001b[1;33m:\u001b[0m\u001b[1;33m\u001b[0m\u001b[1;33m\u001b[0m\u001b[0m\n",
      "\u001b[1;32m~\\Anaconda3\\lib\\threading.py\u001b[0m in \u001b[0;36mwait\u001b[1;34m(self, timeout)\u001b[0m\n\u001b[0;32m    294\u001b[0m         \u001b[1;32mtry\u001b[0m\u001b[1;33m:\u001b[0m    \u001b[1;31m# restore state no matter what (e.g., KeyboardInterrupt)\u001b[0m\u001b[1;33m\u001b[0m\u001b[1;33m\u001b[0m\u001b[0m\n\u001b[0;32m    295\u001b[0m             \u001b[1;32mif\u001b[0m \u001b[0mtimeout\u001b[0m \u001b[1;32mis\u001b[0m \u001b[1;32mNone\u001b[0m\u001b[1;33m:\u001b[0m\u001b[1;33m\u001b[0m\u001b[1;33m\u001b[0m\u001b[0m\n\u001b[1;32m--> 296\u001b[1;33m                 \u001b[0mwaiter\u001b[0m\u001b[1;33m.\u001b[0m\u001b[0macquire\u001b[0m\u001b[1;33m(\u001b[0m\u001b[1;33m)\u001b[0m\u001b[1;33m\u001b[0m\u001b[1;33m\u001b[0m\u001b[0m\n\u001b[0m\u001b[0;32m    297\u001b[0m                 \u001b[0mgotit\u001b[0m \u001b[1;33m=\u001b[0m \u001b[1;32mTrue\u001b[0m\u001b[1;33m\u001b[0m\u001b[1;33m\u001b[0m\u001b[0m\n\u001b[0;32m    298\u001b[0m             \u001b[1;32melse\u001b[0m\u001b[1;33m:\u001b[0m\u001b[1;33m\u001b[0m\u001b[1;33m\u001b[0m\u001b[0m\n",
      "\u001b[1;31mKeyboardInterrupt\u001b[0m: "
     ]
    }
   ],
   "source": [
    "from sklearn.model_selection import GridSearchCV\n",
    "from sklearn.metrics import make_scorer\n",
    "from sklearn.metrics import fbeta_score, accuracy_score\n",
    "\n",
    "# Initialize imblearn pipeline with chosen unoptimized classifier.\n",
    "# note: using a pipeline rather than just a classifier makes it possible to use SMOTE to over-sample the training set used in the Grid Search\n",
    "model = BaggingClassifier(random_state=42)\n",
    "\n",
    "# Parameters to be tuned\n",
    "params = {'n_estimators':[20, 50, 100, 200, 300, 400, 500],'max_features':[0.2,0.4,0.6,0.8,1]}\n",
    "\n",
    "# Make an fbeta_score scorer\n",
    "scorer = make_scorer(fbeta_score,beta=2, pos_label='New route')\n",
    "\n",
    "# Split dataset into training and test subsets\n",
    "x_train, x_test, y_train, y_test = train_test_split(data_prediction, labels, test_size=0.25, random_state=42)\n",
    "\n",
    "# Perform grid search on the classifier using 'scorer' as the scoring method\n",
    "grid = GridSearchCV(estimator=model, param_grid=params, cv=5, scoring=scorer, n_jobs=-1, verbose = 5)\n",
    "\n",
    "# Fit the grid search object to the training data and find the optimal parameters\n",
    "grid_fit = grid.fit(x_train,y_train)\n",
    "\n",
    "# Get the optimised estimator\n",
    "best_model = grid_fit.best_estimator_\n",
    "\n",
    "# Make predictions using the unoptimised and optimised model\n",
    "predictions = (model.fit(x_train, y_train)).predict(x_test)\n",
    "best_predictions = best_model.predict(x_test)\n",
    "\n",
    "# Report the before-and-afterscores\n",
    "print('Unoptimised model\\n------------')\n",
    "print('F-score on test data: {:.2f}%'.format(fbeta_score(y_test, predictions, beta = 2, pos_label='New route')*100))\n",
    "print('Recall on test data: {:.2f}%'.format(recall_score(y_test, predictions, pos_label='New route')*100))\n",
    "print('Accuracy score on test data: {:.2f}%'.format(accuracy_score(y_test, predictions)*100))\n",
    "\n",
    "print('\\nOptimised Model\\n------------')\n",
    "print('Final F-score on the test data: {:.2f}%'.format(fbeta_score(y_test, best_predictions, beta = 2, pos_label='New route')*100))\n",
    "print('Final recall on the test data: {:.2f}%'.format(recall_score(y_test, best_predictions, pos_label='New route')*100))\n",
    "print('Final accuracy score on the test data: {:.2f}%'.format(accuracy_score(y_test, best_predictions)*100))\n",
    "\n",
    "print('\\nOptimal parameters:')\n",
    "print(grid_fit.best_params_)"
   ]
  },
  {
   "cell_type": "code",
   "execution_count": 47,
   "metadata": {},
   "outputs": [
    {
     "name": "stdout",
     "output_type": "stream",
     "text": [
      "Fitting 5 folds for each of 72 candidates, totalling 360 fits\n"
     ]
    },
    {
     "name": "stderr",
     "output_type": "stream",
     "text": [
      "[Parallel(n_jobs=-1)]: Using backend LokyBackend with 4 concurrent workers.\n",
      "[Parallel(n_jobs=-1)]: Done  10 tasks      | elapsed:   26.1s\n",
      "[Parallel(n_jobs=-1)]: Done  64 tasks      | elapsed:  2.7min\n",
      "[Parallel(n_jobs=-1)]: Done 154 tasks      | elapsed:  8.7min\n",
      "[Parallel(n_jobs=-1)]: Done 280 tasks      | elapsed: 16.8min\n",
      "[Parallel(n_jobs=-1)]: Done 360 out of 360 | elapsed: 22.2min finished\n"
     ]
    },
    {
     "name": "stdout",
     "output_type": "stream",
     "text": [
      "Unoptimised model\n",
      "------------\n",
      "F-score on test data: 78.19%\n",
      "Recall on test data: 78.09%\n",
      "Accuracy score on test data: 87.01%\n",
      "\n",
      "Optimised Model\n",
      "------------\n",
      "Final F-score on the test data: 78.56%\n",
      "Final recall on the test data: 78.50%\n",
      "Final accuracy score on the test data: 87.20%\n",
      "\n",
      "Optimal parameters:\n",
      "{'base_estimator__max_depth': 19, 'base_estimator__min_samples_split': 2}\n"
     ]
    }
   ],
   "source": [
    "# Parameters to be tuned\n",
    "params = {'base_estimator__max_depth':range(3,20,2), 'base_estimator__min_samples_split':range(2,201,25)}\n",
    "model = BaggingClassifier(DecisionTreeClassifier(),n_estimators=500, max_features=0.8, random_state=42)  \n",
    "\n",
    "# Make an fbeta_score scorer\n",
    "scorer = make_scorer(fbeta_score,beta=2,pos_label='New route')\n",
    "\n",
    "# Split dataset into training and test subsets\n",
    "x_train, x_test, y_train, y_test = train_test_split(data_prediction, labels, test_size=0.25, random_state=42)\n",
    "\n",
    "# Perform grid search on the classifier using 'scorer' as the scoring method\n",
    "grid = GridSearchCV(estimator=model, param_grid=params, cv=5, scoring=scorer, n_jobs=-1, verbose = 5)\n",
    "\n",
    "# Fit the grid search object to the training data and find the optimal parameters\n",
    "grid_fit = grid.fit(x_train,y_train)\n",
    "\n",
    "# Get the optimised estimator\n",
    "best_model = grid_fit.best_estimator_\n",
    "\n",
    "# Make predictions using the unoptimised and optimised model\n",
    "predictions = (model.fit(x_train, y_train)).predict(x_test)\n",
    "best_predictions = best_model.predict(x_test)\n",
    "\n",
    "# Report the before-and-afterscores\n",
    "print('Unoptimised model\\n------------')\n",
    "print('F-score on test data: {:.2f}%'.format(fbeta_score(y_test, predictions, beta = 2, pos_label='New route')*100))\n",
    "print('Recall on test data: {:.2f}%'.format(recall_score(y_test, predictions, pos_label='New route')*100))\n",
    "print('Accuracy score on test data: {:.2f}%'.format(accuracy_score(y_test, predictions)*100))\n",
    "\n",
    "print('\\nOptimised Model\\n------------')\n",
    "print('Final F-score on the test data: {:.2f}%'.format(fbeta_score(y_test, best_predictions, beta = 2, pos_label='New route')*100))\n",
    "print('Final recall on the test data: {:.2f}%'.format(recall_score(y_test, best_predictions, pos_label='New route')*100))\n",
    "print('Final accuracy score on the test data: {:.2f}%'.format(accuracy_score(y_test, best_predictions)*100))\n",
    "\n",
    "print('\\nOptimal parameters:')\n",
    "print(grid_fit.best_params_)"
   ]
  },
  {
   "cell_type": "code",
   "execution_count": null,
   "metadata": {},
   "outputs": [],
   "source": []
  }
 ],
 "metadata": {
  "kernelspec": {
   "display_name": "Python 3",
   "language": "python",
   "name": "python3"
  },
  "language_info": {
   "codemirror_mode": {
    "name": "ipython",
    "version": 3
   },
   "file_extension": ".py",
   "mimetype": "text/x-python",
   "name": "python",
   "nbconvert_exporter": "python",
   "pygments_lexer": "ipython3",
   "version": "3.7.1"
  }
 },
 "nbformat": 4,
 "nbformat_minor": 2
}
